{
 "cells": [
  {
   "cell_type": "markdown",
   "id": "d0c2722d",
   "metadata": {},
   "source": [
    "# Exploratory Data Analysis"
   ]
  },
  {
   "cell_type": "markdown",
   "id": "cbd4a51a",
   "metadata": {},
   "source": [
    "## Steps involved in EDA"
   ]
  },
  {
   "cell_type": "markdown",
   "id": "fea45f48",
   "metadata": {},
   "source": [
    "### 1.Data Sourcing \n",
    "\n",
    "##### Data sources can be\n",
    "\n",
    "-Private Data : restricted to company or organisation \n",
    "(usually avalable in csv , excel form)\n",
    "\n",
    "-Public Data : free data available to everyone (Data can be found from open government websites or kaggle ... It cann also be done through web scrapping )\n",
    "\n",
    "   --Web scrapping : fetch data from websites through code (refer web_scrapping_imdb.ipynb for more details)"
   ]
  },
  {
   "cell_type": "markdown",
   "id": "d9fd5f2d",
   "metadata": {},
   "source": [
    "                   "
   ]
  },
  {
   "cell_type": "markdown",
   "id": "c9324987",
   "metadata": {},
   "source": [
    "### 2.Data Cleaning \n",
    "\n",
    "1.Need to clean Data \n",
    "\n",
    "  a.Prepare data for analysis\n",
    "  \n",
    "  b.Possible irregularities :\n",
    "  \n",
    "    1.Identifying the data types\n",
    "    2.Fixing the rows and columns\n",
    "    3Imputing/removing missing values\n",
    "    4.Handling outliers\n",
    "    5.Standardising the values\n",
    "    6.Fixing invalid values\n",
    "    7.Filtering the data\n"
   ]
  },
  {
   "cell_type": "markdown",
   "id": "dcc90552",
   "metadata": {},
   "source": [
    "### Segment- 2 : Data Types "
   ]
  },
  {
   "cell_type": "markdown",
   "id": "96c64766",
   "metadata": {},
   "source": [
    "There are multiple types of data types available in the data set. some of them are numerical type and some of categorical type. You are required to get the idea about the data types after reading the data frame. \n",
    "\n",
    "Following are the some of the types of variables:\n",
    "- **Numeric data type**: banking dataset: salary, balance, duration and age.\n",
    "- **Categorical data type**: banking dataset: education, job, marital, poutcome and month etc.\n",
    "- **Ordinal data type**: banking dataset: Age group.\n",
    "- **Time and date type** \n",
    "- **Coordinates type of data**: latitude and longitude type."
   ]
  },
  {
   "cell_type": "markdown",
   "id": "fe45898d",
   "metadata": {},
   "source": [
    "### Segment- 3, Fixing the Rows and Columns "
   ]
  },
  {
   "cell_type": "markdown",
   "id": "f84b0265",
   "metadata": {},
   "source": [
    "Checklist for fixing rows:\n",
    "- **Delete summary rows**: Total and Subtotal rows\n",
    "- **Delete incorrect rows**: Header row and footer row\n",
    "- **Delete extra rows**: Column number, indicators, Blank rows, Page No.\n",
    "\n",
    "Checklist for fixing columns:\n",
    "- **Merge columns for creating unique identifiers**, if needed, for example, merge the columns State and City into the column Full address.\n",
    "- **Split columns to get more data**: Split the Address column to get State and City columns to analyse each separately. \n",
    "- **Add column names**: Add column names if missing.\n",
    "- **Rename columns consistently**: Abbreviations, encoded columns.\n",
    "- **Delete columns**: Delete unnecessary columns.\n",
    "- **Align misaligned columns**: The data set may have shifted columns, which you need to align correctly.\n"
   ]
  },
  {
   "cell_type": "markdown",
   "id": "e9df09ad",
   "metadata": {},
   "source": [
    "### Segment- 4, Impute/Remove missing values "
   ]
  },
  {
   "cell_type": "markdown",
   "id": "11546f30",
   "metadata": {},
   "source": [
    "Takeaways from the lecture on missing values:\n",
    "\n",
    "- **Set values as missing values**: Identify values that indicate missing data, for example, treat blank strings, \"NA\", \"XX\", \"999\", etc., as missing.\n",
    "- **Adding is good, exaggerating is bad**: You should try to get information from reliable external sources as much as possible, but if you can’t, then it is better to retain missing values rather than exaggerating the existing rows/columns.\n",
    "- **Delete rows and columns**: Rows can be deleted if the number of missing values is insignificant, as this would not impact the overall analysis results. Columns can be removed if the missing values are quite significant in number.\n",
    "- **Fill partial missing values using business judgement**: Such values include missing time zone, century, etc. These values can be identified easily.\n",
    "\n",
    "Types of missing values:\n",
    "- **MCAR**: It stands for Missing completely at random (the reason behind the missing value is not dependent on any other feature).\n",
    "- **MAR**: It stands for Missing at random (the reason behind the missing value may be associated with some other features).\n",
    "- **MNAR**: It stands for Missing not at random (there is a specific reason behind the missing value).\n"
   ]
  },
  {
   "cell_type": "markdown",
   "id": "5d483807",
   "metadata": {},
   "source": [
    "### Segment- 5, Handling Outliers "
   ]
  },
  {
   "cell_type": "markdown",
   "id": "52b06db3",
   "metadata": {},
   "source": [
    "**Outliers** - values that are beyond normal values'\n",
    "\n",
    "Types of Outiliers\n",
    "\n",
    "- **Univariate outliers** - single variable\n",
    "  -  Univariate outliers are those data points in a variable whose values lie beyond the range of expected values.\n",
    "  \n",
    "- **Multivariate outlier**- multiple outlier\n",
    "  - While plotting data, some values of one variable may not lie beyond the expected range, but when you plot the data with some other variable, these values may lie far from the expected value. These are called multivariate outliers.\n"
   ]
  },
  {
   "cell_type": "markdown",
   "id": "6e2529fd",
   "metadata": {},
   "source": [
    "**1.Causes of outliers**\n",
    " - Investigate the cause\n",
    " \n",
    "**2.Treatment of outliers** "
   ]
  },
  {
   "cell_type": "markdown",
   "id": "13542a4d",
   "metadata": {},
   "source": [
    "Major approaches to the treat outliers:\n",
    " \t\t\n",
    "- **Imputation** : exclude that value from particular analysis\n",
    "- **Deletion of outliers** \n",
    "- **Binning of values**\n",
    "- **Cap the outlier** : cap the high value to less high value"
   ]
  },
  {
   "cell_type": "markdown",
   "id": "c3bb7c73",
   "metadata": {},
   "source": [
    "### Segment- 6, Standardising values "
   ]
  },
  {
   "cell_type": "markdown",
   "id": "04cf2ba8",
   "metadata": {},
   "source": [
    "Checklist for data standardization exercises:\n",
    "- **Standardise units**: Ensure all observations under one variable are expressed in a common and consistent unit, e.g., convert lbs to kg, miles/hr to km/hr, etc.\n",
    "- **Scale values if required**: Make sure all the observations under one variable have a common scale.\n",
    "- **Standardise precision** for better presentation of data, e.g., change 4.5312341 kg to 4.53 kg.\n",
    "- **Remove extra characters** such as common prefixes/suffixes, leading/trailing/multiple spaces, etc. These are irrelevant to analysis.\n",
    "- **Standardise case**: String variables may take various casing styles, e.g., UPPERCASE, lowercase, Title Case, Sentence case, etc.\n",
    "- **Standardise format**: It is important to standardise the format of other elements such as date, name, etce.g., change 23/10/16 to 2016/10/23, “Modi, Narendra” to “Narendra Modi\", etc."
   ]
  },
  {
   "cell_type": "markdown",
   "id": "aa5a22dc",
   "metadata": {},
   "source": [
    "### Segement-7, Fixing Invalid Values and Filtering Data"
   ]
  },
  {
   "cell_type": "markdown",
   "id": "cecf55d0",
   "metadata": {},
   "source": [
    "- **Encode unicode properly:** In case the data is being read as junk characters, try to change the encoding. For example, use CP1252 instead of UTF-8.\n",
    "    \n",
    "- **Convert incorrect data types:** Change the incorrect data types to the correct data types for ease of analysis. For example, if numeric values are stored as strings, then it would not be possible to calculate metrics such as mean, median, etc. Some of the common data type corrections include changing a string to a number (“12,300” to “12300”), a string to a date (“2013-Aug” to “2013/08”), and a number to a string (“PIN Code 110001” to “110001”).\n",
    "\n",
    "- **Correct the values that lie beyond the range:** If some values lie beyond the logical range, for example, temperature less than -273° C (0° K), then you would need to correct those values as required. A closer look at the data set would help you determine whether there is scope for correction or the value needs to be removed.\n",
    "\n",
    "- **Correct the values not belonging to the list:** Remove the values that do not belong to a list. For example, in a data set of blood groups of individuals, strings ‘E’ or ‘F’ are invalid values and can be removed.\n",
    "\n",
    "- **Fix incorrect structure:** Values that do not follow a defined structure can be removed from a data set. For example, in a data set containing the pin codes of Indian cities, a pin code of 12 digits would be an invalid value and must be removed. Similarly, a phone number of 12 digits would be an invalid value.\n",
    "\n",
    "- **Validate internal rules:** Internal rules, if present, should be correct and consistent. For example, the date of a product’s delivery should definitely come after the date of purchase.\n",
    "\n",
    "### Filtering Data\n",
    "\n",
    "- **Delete duplicate data:** Remove identical rows and the rows in which some columns are identical\n",
    "\n",
    "- **Filter rows:** Filter rows by segment and date period to obtain only rows relevant to the analysis\n",
    "\n",
    "- **Filter columns:** Filter columns relevant to the analysis\n",
    "\n",
    "- **Aggregate data:** Group by the required keys and aggregate the rest"
   ]
  },
  {
   "cell_type": "markdown",
   "id": "da89b4cb",
   "metadata": {},
   "source": [
    "### Summary"
   ]
  },
  {
   "cell_type": "markdown",
   "id": "f9c7a876",
   "metadata": {},
   "source": [
    "- **Fixing the rows and columns:** You need to remove the irrelevant columns and heading lines from the data set. The irrelevant columns or rows are those that are of absolutely no use for analysis on the data set. Like in the Bank Marketing dataset, the headers and customer ID columns are of absolutely no use.\n",
    "\n",
    "- **Remove/impute the missing values:** There are different types of missing values in the data set. Based on their type and origin, you need to decide whether they can be removed (if their percentage is too low), or whether they can be considered as a separate category. There is an important possibility where you need to impute missing values with some other value. While doing imputation, one should be very careful because it should not add any wrong information into the data set. The imputation can be done using mean, median, mode or using quantile analysis.\n",
    "\n",
    "- **Outlier handling:** Outliers are points that are beyond the normal trend. There are two types of outliers: \n",
    "   - Univariate\n",
    "   - Multivariate\n",
    "    \n",
    "- outliers should not always be treated as anomalies in the data set. \n",
    "\n",
    "\n",
    "- **Standardising values:** Sometimes, there are many entries in the data set that are not in the correct format. As you have seen in the Bank Marketing dataset, the duration of the call is in seconds and minutes. It has to be in the same format. The other standardisation involves unit and precision standardisation.\n",
    "\n",
    "- **Fixing invalid values:** Sometimes, there are some values in the data set that are invalid, maybe in the form of their unit, range, data type, format, etc. It is essential to deal with these types of irregularities before processing the data set.\n",
    "\n",
    "- **Filter data:** Sometimes, filtering out certain details can help you get a clearer picture of the data set."
   ]
  },
  {
   "cell_type": "markdown",
   "id": "23ddd4ba",
   "metadata": {},
   "source": [
    "            "
   ]
  },
  {
   "cell_type": "markdown",
   "id": "b7aec4d7",
   "metadata": {},
   "source": [
    "## Session- 3, Univariate Analysis "
   ]
  },
  {
   "cell_type": "markdown",
   "id": "471f93dc",
   "metadata": {},
   "source": [
    "**Definition:**Analysing/ivualising a single variable\n",
    "    \n",
    "- Infer knowledge and handle missing values/outliers in a single feature    \n",
    "\n",
    "- Univariate analysis is broadly of the following three types:\n",
    "\n",
    "  - Categorical Unordered Univariate Analysis\n",
    "  - Categorical Ordered Univariate Analysis\n",
    "  - Statistics on Numerical Features"
   ]
  },
  {
   "cell_type": "markdown",
   "id": "4931fba8",
   "metadata": {},
   "source": [
    "### Segment- 2, Categorical unordered univariate analysis "
   ]
  },
  {
   "cell_type": "markdown",
   "id": "e820ade0",
   "metadata": {},
   "source": [
    "Unordered data do not have the notion of high-low, more-less etc. \n",
    " - Unordered variables are also called nominal variables.\n",
    "\n",
    "Example:\n",
    "- Type of loan taken by a person = home, personal, auto etc.\n",
    "- Organisation of a person = Sales, marketing, HR etc.\n",
    "- Job category of persone.\n",
    "- Marital status of any one."
   ]
  },
  {
   "cell_type": "markdown",
   "id": "b7de32c1",
   "metadata": {},
   "source": [
    "### Segment- 3, Categorical ordered univariate analysis "
   ]
  },
  {
   "cell_type": "markdown",
   "id": "7a9c622f",
   "metadata": {},
   "source": [
    "Ordered variables have some kind of ordering. Some examples of bank marketing dataset are:\n",
    "- Age group= <30, 30-40, 40-50 and so on.\n",
    "- Month = Jan-Feb-Mar etc.\n",
    "        - Education = primary, secondary and so on."
   ]
  },
  {
   "cell_type": "markdown",
   "id": "94e89cab",
   "metadata": {},
   "source": [
    "### Segement-4, Statistics on Numerical Features"
   ]
  },
  {
   "cell_type": "markdown",
   "id": "75fc54b8",
   "metadata": {},
   "source": [
    "**Binning:**\n",
    "One can treat numeric variables as ordered categorical variables. You can deliberately convert the numeric variables into ordered categoricals for analysis. If, for example, you have the income of a few thousand people, which ranges from $5,000 to $1,00,000, you can categorise them into bins such as [5000, 10000], [10000,15000], [15000, 20000], etc.\n",
    "\n",
    "This is called ‘binning’."
   ]
  },
  {
   "cell_type": "markdown",
   "id": "038bf9bb",
   "metadata": {},
   "source": [
    "- Graphical representation of numerical data points through their media and quartiles\n",
    "\n",
    "- the mean gives an average of all the values, the median gives a typical value that can be used to represent the entire group\n",
    "\n",
    "- box plots are used to understand the spread of data.\n",
    "\n",
    "- Both standard deviation and interquartile difference are used to represent the spread of the data.\n",
    "\n",
    "- The interquartile difference is a much better metric than standard deviation if there are outliers in the data because the standard deviation will be influenced by outliers, while the interquartile difference will simply ignore them."
   ]
  },
  {
   "cell_type": "markdown",
   "id": "c697f94c",
   "metadata": {},
   "source": [
    "### Summary \n",
    "\n",
    "- **Categorical unordered univariate analysis:** Unordered variables are variables that do not contain any notion of ordering, such as increasing or decreasing order. These are just various types of any category. Examples can be job types, marital status, blood groups, etc.\n",
    "\n",
    "- **Categorical ordered univariate analysis:** Ordered variables are variables that follow some kind of ordering, like high-low, fail-success, yes-no. Examples can be education level, salary group like high or low, gradings in any exam, etc.\n",
    "\n",
    "- **Numerical variable univariate analysis:** Numerical variables can be classified into continuous and discrete. To analyse numerical variables, you need to know statistic metrics like mean, median, mode, quantiles, box plots, etc. It is important to understand that numerical variable univariate analysis is nothing but what we have done earlier, i.e., the treatment of missing values and handling outliers. The crux of univariate analysis lies in the single variable analysis, which was covered in the process of cleaning the data set.\n",
    "\n",
    "- **The transition of a numerical variable into a categorical variable:** This is an important aspect that you need to think about before performing univariate analysis. Sometimes, it is essential to convert numerical variables into categorical ones through a process called binning."
   ]
  },
  {
   "cell_type": "markdown",
   "id": "6cfa7a21",
   "metadata": {},
   "source": [
    "   "
   ]
  },
  {
   "cell_type": "markdown",
   "id": "93ac8454",
   "metadata": {},
   "source": [
    "## Session- 4, Bivariate and Multivariate Analysis"
   ]
  },
  {
   "cell_type": "markdown",
   "id": "c38499fe",
   "metadata": {},
   "source": [
    "- #This session has been divided into the following topics based on the different types of variables:\n",
    "\n",
    "- Analysis between two numeric variables\n",
    "- Correlation vs causation\n",
    "- Analysis between numeric and categorical variables\n",
    "- Analysis between two categorical variables\n",
    "- Multivariate analysis"
   ]
  },
  {
   "cell_type": "markdown",
   "id": "4d737a3a",
   "metadata": {},
   "source": [
    "### Segment-2, Numeric- numeric analysis "
   ]
  },
  {
   "cell_type": "markdown",
   "id": "7027990a",
   "metadata": {},
   "source": [
    "There are three ways to analyse the numeric- numeric data types simultaneously.\n",
    "- **Scatter plot**: describes the pattern that how one variable is varying with other variable.\n",
    "- **Correlation matrix**: to describe the linearity of two numeric variables.\n",
    "   - The correlation matrix quantifies only the linear dependence between the variables; it does not capture the non-linear relations between them.\n",
    "   - The correlation coefficient is sensitive to outliers.\n",
    "   - The higher the value (absolute value) of the coefficient of correlation between numerical variables, the higher the linear relation between them.\n",
    "\n",
    "- **Pair plot**: group of scatter plots of all numeric variables in the data frame."
   ]
  },
  {
   "cell_type": "markdown",
   "id": "3369a7e2",
   "metadata": {},
   "source": [
    "### Segment-3, Correlation vs Causation"
   ]
  },
  {
   "cell_type": "markdown",
   "id": "1c63951a",
   "metadata": {},
   "source": [
    "- Correlation does not imply causation\n",
    "- **Correlation vs causation: This is a very important concept of data analysis, which states that correlation is not always related to causation. Although there may be a very high correlation between variables, there may be no causation at all.\n",
    "\n",
    "- Example\n",
    "**1** The number of people who drowned by falling into a pool is not related to movies starring Nicolas Cage. However, if you observe the plot below, you will notice a very high correlation between them, as both the plots follow almost the same path.\n",
    "**2** Similarly, in the example below, it is obvious that the per capita cheese consumption has no relation with people dying from being tangled in bedsheets. However, the plot shows a high correlation between them.\n"
   ]
  },
  {
   "cell_type": "markdown",
   "id": "0b90f013",
   "metadata": {},
   "source": [
    "   "
   ]
  },
  {
   "cell_type": "markdown",
   "id": "aeb3de86",
   "metadata": {},
   "source": [
    "### Segment- 4, Numerical categorical variable"
   ]
  },
  {
   "cell_type": "markdown",
   "id": "5716a911",
   "metadata": {},
   "source": [
    "**Key takeaways**\n",
    "- Use group by for a proper analysis of mean and median for numerical column over the categorical column \n",
    "- Use box plot or bar plot to represent those mean/median\n",
    "\n",
    "- **Analysis between numerical and categorical variables:** This gives an idea about the variation of a particular numerical variable with respect to different categories of a categorical variable. Boxplot is the best way to look at a numerical variable with respect to a categorical variable. However, boxplots may sometimes not be useful because of the huge difference between the maximum and minimum values in the data set, or due to the higher concentration of data in the numerical variable. Another approach could be to look into the mean/median or quartiles, which are a more efficient way to deal with a numerical variable when combined with a categorical variable"
   ]
  },
  {
   "cell_type": "markdown",
   "id": "0d84e617",
   "metadata": {},
   "source": [
    "  "
   ]
  },
  {
   "cell_type": "markdown",
   "id": "19f98fe9",
   "metadata": {},
   "source": [
    "### Segment- 5, Categorical categorical variable "
   ]
  },
  {
   "cell_type": "markdown",
   "id": "a06586de",
   "metadata": {},
   "source": [
    "- **Analysis between two categorical variables:** A bar graph is the best approach to analysing two categorical variables.\n",
    "\n",
    "- One of the interesting examples, also covered in the bank marketing dataset, is that the bank has mostly contacted people in the age group of 30–50, although people in the age group of 60+ gave more positive responses among all the age groups. This is a very important inference that the bank can draw, i.e., it should contact more individuals in the age group of 60+.    "
   ]
  },
  {
   "cell_type": "markdown",
   "id": "73e43bda",
   "metadata": {},
   "source": [
    "   "
   ]
  },
  {
   "cell_type": "markdown",
   "id": "5327053a",
   "metadata": {},
   "source": [
    "### Segemnt-6, Multivariate Analysis"
   ]
  },
  {
   "cell_type": "markdown",
   "id": "4d38b0db",
   "metadata": {},
   "source": [
    "-  Multivariate analysis yields very specific information about a data set. It basically involves the analysis of more than two variables at a time. For instance, heat maps are the best way to look at three variables at a time. In multivariate analysis, it is essential to look into the data by grouping the variables and inferring decisions from them."
   ]
  },
  {
   "cell_type": "markdown",
   "id": "2efa43e1",
   "metadata": {},
   "source": [
    "  "
   ]
  },
  {
   "cell_type": "markdown",
   "id": "d24e412c",
   "metadata": {},
   "source": [
    "            "
   ]
  },
  {
   "cell_type": "markdown",
   "id": "e470a741",
   "metadata": {},
   "source": [
    "## MODULE SUMMARY"
   ]
  },
  {
   "cell_type": "markdown",
   "id": "07f82c59",
   "metadata": {},
   "source": [
    "- Exploratory Data Analysis (EDA) helps a data analyst look beyond the data. It is a never-ending process – the more you explore the data, the more insights you draw from it. As a data analyst, almost 80% of your time will be spent understanding data and solving various business problems through EDA. If you understand EDA properly, half the battle is won.\n",
    "\n",
    " \n",
    "\n",
    "- Now, one thing that you should keep in mind is that EDA is far more than just a plain visualisation. It is an end-to-end process to analyse a data set and prepare it for model building.\n",
    "\n",
    "\n",
    "- In this module, you have learnt about some crucial steps in any kind of data analysis. These steps include the following:\n",
    "\n",
    "**Gather data for analysis:** In the data sourcing part, you learnt about the various sources of data. There are majorly two types of data sources, namely public data and private data. Private data is associated with some security and privacy concerns, whereas public data is freely available to use without any restrictions on access or usage. There are many websites that provide access to a public dataset. You have also learnt about the basics of web scraping – a process to fetch the data from a web page directly.\n",
    "\n",
    "**Preparation and cleaning of data:** In the cleaning process, the main objective is to remove irregularities from a data set. There are many ways to clean data, but the two most important approaches that you learnt are the treatment of missing values and outlier handling.\n",
    " \n",
    "- Now, there are many ways to deal with missing values, for example, removing an entire column or rows with missing values; however, you need to keep in mind that it should not hamper the data with loss of information. The other method to deal with missing values is to just impute them with other values such as mean, median, mode or quantiles. The third method is to treat the missing values as a separate category; this is the safest method to deal with missing values.\n",
    "\n",
    "\n",
    "- Next, you learnt about the different methods for analysing variables. These methods include the following:\n",
    "\n",
    "**Univariate analysis:** Univariate analysis involves the analysis of a single variable at a time. Now, there are multiple types of variables, such as categorical ordered and unordered variables and numerical variables. A univariate analysis gives insights about a single variable and how it varies, and what are the counts of each and every category in it.\n",
    "\n",
    "**Bivariate and multivariate analysis:** Bivariate/multivariate analysis involves analysing two or more variables at the same time. These analyses yield very specific insights about a data set. You can infer various findings after bivariate analysis."
   ]
  },
  {
   "cell_type": "code",
   "execution_count": null,
   "id": "f0aca7e1",
   "metadata": {},
   "outputs": [],
   "source": []
  }
 ],
 "metadata": {
  "kernelspec": {
   "display_name": "Python 3 (ipykernel)",
   "language": "python",
   "name": "python3"
  },
  "language_info": {
   "codemirror_mode": {
    "name": "ipython",
    "version": 3
   },
   "file_extension": ".py",
   "mimetype": "text/x-python",
   "name": "python",
   "nbconvert_exporter": "python",
   "pygments_lexer": "ipython3",
   "version": "3.9.13"
  }
 },
 "nbformat": 4,
 "nbformat_minor": 5
}
