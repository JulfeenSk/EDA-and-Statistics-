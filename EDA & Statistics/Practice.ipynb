{
 "cells": [
  {
   "cell_type": "code",
   "execution_count": 2,
   "id": "de353851",
   "metadata": {},
   "outputs": [],
   "source": [
    "import pandas as pd\n",
    "import matplotlib as plt\n",
    "import numpy as np\n",
    "import seaborn as snp"
   ]
  },
  {
   "cell_type": "code",
   "execution_count": 3,
   "id": "9b794819",
   "metadata": {},
   "outputs": [
    {
     "data": {
      "text/html": [
       "<div>\n",
       "<style scoped>\n",
       "    .dataframe tbody tr th:only-of-type {\n",
       "        vertical-align: middle;\n",
       "    }\n",
       "\n",
       "    .dataframe tbody tr th {\n",
       "        vertical-align: top;\n",
       "    }\n",
       "\n",
       "    .dataframe thead th {\n",
       "        text-align: right;\n",
       "    }\n",
       "</style>\n",
       "<table border=\"1\" class=\"dataframe\">\n",
       "  <thead>\n",
       "    <tr style=\"text-align: right;\">\n",
       "      <th></th>\n",
       "      <th>Phone Name</th>\n",
       "      <th>Rating ?/5</th>\n",
       "      <th>Number of Ratings</th>\n",
       "      <th>RAM</th>\n",
       "      <th>ROM/Storage</th>\n",
       "      <th>Back/Rare Camera</th>\n",
       "      <th>Front Camera</th>\n",
       "      <th>Battery</th>\n",
       "      <th>Processor</th>\n",
       "      <th>Price in INR</th>\n",
       "      <th>Date of Scraping</th>\n",
       "    </tr>\n",
       "  </thead>\n",
       "  <tbody>\n",
       "    <tr>\n",
       "      <th>0</th>\n",
       "      <td>POCO C50 (Royal Blue, 32 GB)</td>\n",
       "      <td>4.2</td>\n",
       "      <td>33561.0</td>\n",
       "      <td>2 GB RAM</td>\n",
       "      <td>32 GB ROM</td>\n",
       "      <td>8MP Dual Camera</td>\n",
       "      <td>5MP Front Camera</td>\n",
       "      <td>5000 mAh</td>\n",
       "      <td>Mediatek Helio A22 Processor, Upto 2.0 GHz Pro...</td>\n",
       "      <td>₹5,649</td>\n",
       "      <td>17-06-2023</td>\n",
       "    </tr>\n",
       "    <tr>\n",
       "      <th>1</th>\n",
       "      <td>POCO M4 5G (Cool Blue, 64 GB)</td>\n",
       "      <td>4.2</td>\n",
       "      <td>77128.0</td>\n",
       "      <td>4 GB RAM</td>\n",
       "      <td>64 GB ROM</td>\n",
       "      <td>50MP + 2MP</td>\n",
       "      <td>8MP Front Camera</td>\n",
       "      <td>5000 mAh</td>\n",
       "      <td>Mediatek Dimensity 700 Processor</td>\n",
       "      <td>₹11,999</td>\n",
       "      <td>17-06-2023</td>\n",
       "    </tr>\n",
       "    <tr>\n",
       "      <th>2</th>\n",
       "      <td>POCO C51 (Royal Blue, 64 GB)</td>\n",
       "      <td>4.3</td>\n",
       "      <td>15175.0</td>\n",
       "      <td>4 GB RAM</td>\n",
       "      <td>64 GB ROM</td>\n",
       "      <td>8MP Dual Rear Camera</td>\n",
       "      <td>5MP Front Camera</td>\n",
       "      <td>5000 mAh</td>\n",
       "      <td>Helio G36 Processor</td>\n",
       "      <td>₹6,999</td>\n",
       "      <td>17-06-2023</td>\n",
       "    </tr>\n",
       "    <tr>\n",
       "      <th>3</th>\n",
       "      <td>POCO C55 (Cool Blue, 64 GB)</td>\n",
       "      <td>4.2</td>\n",
       "      <td>22621.0</td>\n",
       "      <td>4 GB RAM</td>\n",
       "      <td>64 GB ROM</td>\n",
       "      <td>50MP Dual Rear Camera</td>\n",
       "      <td>5MP Front Camera</td>\n",
       "      <td>5000 mAh</td>\n",
       "      <td>Mediatek Helio G85 Processor</td>\n",
       "      <td>₹7,749</td>\n",
       "      <td>17-06-2023</td>\n",
       "    </tr>\n",
       "    <tr>\n",
       "      <th>4</th>\n",
       "      <td>POCO C51 (Power Black, 64 GB)</td>\n",
       "      <td>4.3</td>\n",
       "      <td>15175.0</td>\n",
       "      <td>4 GB RAM</td>\n",
       "      <td>64 GB ROM</td>\n",
       "      <td>8MP Dual Rear Camera</td>\n",
       "      <td>5MP Front Camera</td>\n",
       "      <td>5000 mAh</td>\n",
       "      <td>Helio G36 Processor</td>\n",
       "      <td>₹6,999</td>\n",
       "      <td>17-06-2023</td>\n",
       "    </tr>\n",
       "    <tr>\n",
       "      <th>...</th>\n",
       "      <td>...</td>\n",
       "      <td>...</td>\n",
       "      <td>...</td>\n",
       "      <td>...</td>\n",
       "      <td>...</td>\n",
       "      <td>...</td>\n",
       "      <td>...</td>\n",
       "      <td>...</td>\n",
       "      <td>...</td>\n",
       "      <td>...</td>\n",
       "      <td>...</td>\n",
       "    </tr>\n",
       "    <tr>\n",
       "      <th>1831</th>\n",
       "      <td>Infinix Note 7 (Forest Green, 64 GB)</td>\n",
       "      <td>4.3</td>\n",
       "      <td>25582.0</td>\n",
       "      <td>4 GB RAM</td>\n",
       "      <td>64 GB ROM</td>\n",
       "      <td>48MP + 2MP + 2MP + AI Lens Camera</td>\n",
       "      <td>16MP Front Camera</td>\n",
       "      <td>5000 mAh</td>\n",
       "      <td>MediaTek Helio G70 Processor</td>\n",
       "      <td>₹14,999</td>\n",
       "      <td>17-06-2023</td>\n",
       "    </tr>\n",
       "    <tr>\n",
       "      <th>1832</th>\n",
       "      <td>Infinix Note 7 (Bolivia Blue, 64 GB)</td>\n",
       "      <td>4.3</td>\n",
       "      <td>25582.0</td>\n",
       "      <td>4 GB RAM</td>\n",
       "      <td>64 GB ROM</td>\n",
       "      <td>48MP + 2MP + 2MP + AI Lens Camera</td>\n",
       "      <td>16MP Front Camera</td>\n",
       "      <td>5000 mAh</td>\n",
       "      <td>MediaTek Helio G70 Processor</td>\n",
       "      <td>₹14,999</td>\n",
       "      <td>17-06-2023</td>\n",
       "    </tr>\n",
       "    <tr>\n",
       "      <th>1833</th>\n",
       "      <td>Infinix Note 7 (Aether Black, 64 GB)</td>\n",
       "      <td>4.3</td>\n",
       "      <td>25582.0</td>\n",
       "      <td>4 GB RAM</td>\n",
       "      <td>64 GB ROM</td>\n",
       "      <td>48MP + 2MP + 2MP + AI Lens Camera</td>\n",
       "      <td>16MP Front Camera</td>\n",
       "      <td>5000 mAh</td>\n",
       "      <td>MediaTek Helio G70 Processor</td>\n",
       "      <td>₹14,999</td>\n",
       "      <td>17-06-2023</td>\n",
       "    </tr>\n",
       "    <tr>\n",
       "      <th>1834</th>\n",
       "      <td>Infinix Zero 8i (Silver Diamond, 128 GB)</td>\n",
       "      <td>4.2</td>\n",
       "      <td>7117.0</td>\n",
       "      <td>8 GB RAM</td>\n",
       "      <td>128 GB ROM</td>\n",
       "      <td>48MP + 8MP + 2MP + AI Lens Camera</td>\n",
       "      <td>16MP + 8MP Dual Front Camera</td>\n",
       "      <td>4500 mAh</td>\n",
       "      <td>MediaTek Helio G90T Processor</td>\n",
       "      <td>₹18,999</td>\n",
       "      <td>17-06-2023</td>\n",
       "    </tr>\n",
       "    <tr>\n",
       "      <th>1835</th>\n",
       "      <td>Infinix S5 (Quetzal Cyan, 64 GB)</td>\n",
       "      <td>4.3</td>\n",
       "      <td>15701.0</td>\n",
       "      <td>4 GB RAM</td>\n",
       "      <td>64 GB ROM</td>\n",
       "      <td>16MP + 5MP + 2MP + Low Light Sensor</td>\n",
       "      <td>32MP Front Camera</td>\n",
       "      <td>4000 mAh</td>\n",
       "      <td>Helio P22 (MTK6762) Processor</td>\n",
       "      <td>₹10,999</td>\n",
       "      <td>17-06-2023</td>\n",
       "    </tr>\n",
       "  </tbody>\n",
       "</table>\n",
       "<p>1836 rows × 11 columns</p>\n",
       "</div>"
      ],
      "text/plain": [
       "                                    Phone Name  Rating ?/5  Number of Ratings  \\\n",
       "0                 POCO C50 (Royal Blue, 32 GB)         4.2            33561.0   \n",
       "1                POCO M4 5G (Cool Blue, 64 GB)         4.2            77128.0   \n",
       "2                 POCO C51 (Royal Blue, 64 GB)         4.3            15175.0   \n",
       "3                  POCO C55 (Cool Blue, 64 GB)         4.2            22621.0   \n",
       "4                POCO C51 (Power Black, 64 GB)         4.3            15175.0   \n",
       "...                                        ...         ...                ...   \n",
       "1831      Infinix Note 7 (Forest Green, 64 GB)         4.3            25582.0   \n",
       "1832      Infinix Note 7 (Bolivia Blue, 64 GB)         4.3            25582.0   \n",
       "1833      Infinix Note 7 (Aether Black, 64 GB)         4.3            25582.0   \n",
       "1834  Infinix Zero 8i (Silver Diamond, 128 GB)         4.2             7117.0   \n",
       "1835          Infinix S5 (Quetzal Cyan, 64 GB)         4.3            15701.0   \n",
       "\n",
       "           RAM ROM/Storage                     Back/Rare Camera  \\\n",
       "0     2 GB RAM   32 GB ROM                      8MP Dual Camera   \n",
       "1     4 GB RAM   64 GB ROM                           50MP + 2MP   \n",
       "2     4 GB RAM   64 GB ROM                 8MP Dual Rear Camera   \n",
       "3     4 GB RAM   64 GB ROM                50MP Dual Rear Camera   \n",
       "4     4 GB RAM   64 GB ROM                 8MP Dual Rear Camera   \n",
       "...        ...         ...                                  ...   \n",
       "1831  4 GB RAM   64 GB ROM    48MP + 2MP + 2MP + AI Lens Camera   \n",
       "1832  4 GB RAM   64 GB ROM    48MP + 2MP + 2MP + AI Lens Camera   \n",
       "1833  4 GB RAM   64 GB ROM    48MP + 2MP + 2MP + AI Lens Camera   \n",
       "1834  8 GB RAM  128 GB ROM    48MP + 8MP + 2MP + AI Lens Camera   \n",
       "1835  4 GB RAM   64 GB ROM  16MP + 5MP + 2MP + Low Light Sensor   \n",
       "\n",
       "                      Front Camera   Battery  \\\n",
       "0                 5MP Front Camera  5000 mAh   \n",
       "1                 8MP Front Camera  5000 mAh   \n",
       "2                 5MP Front Camera  5000 mAh   \n",
       "3                 5MP Front Camera  5000 mAh   \n",
       "4                 5MP Front Camera  5000 mAh   \n",
       "...                            ...       ...   \n",
       "1831             16MP Front Camera  5000 mAh   \n",
       "1832             16MP Front Camera  5000 mAh   \n",
       "1833             16MP Front Camera  5000 mAh   \n",
       "1834  16MP + 8MP Dual Front Camera  4500 mAh   \n",
       "1835             32MP Front Camera  4000 mAh   \n",
       "\n",
       "                                              Processor Price in INR  \\\n",
       "0     Mediatek Helio A22 Processor, Upto 2.0 GHz Pro...       ₹5,649   \n",
       "1                      Mediatek Dimensity 700 Processor      ₹11,999   \n",
       "2                                   Helio G36 Processor       ₹6,999   \n",
       "3                          Mediatek Helio G85 Processor       ₹7,749   \n",
       "4                                   Helio G36 Processor       ₹6,999   \n",
       "...                                                 ...          ...   \n",
       "1831                       MediaTek Helio G70 Processor      ₹14,999   \n",
       "1832                       MediaTek Helio G70 Processor      ₹14,999   \n",
       "1833                       MediaTek Helio G70 Processor      ₹14,999   \n",
       "1834                      MediaTek Helio G90T Processor      ₹18,999   \n",
       "1835                      Helio P22 (MTK6762) Processor      ₹10,999   \n",
       "\n",
       "     Date of Scraping  \n",
       "0          17-06-2023  \n",
       "1          17-06-2023  \n",
       "2          17-06-2023  \n",
       "3          17-06-2023  \n",
       "4          17-06-2023  \n",
       "...               ...  \n",
       "1831       17-06-2023  \n",
       "1832       17-06-2023  \n",
       "1833       17-06-2023  \n",
       "1834       17-06-2023  \n",
       "1835       17-06-2023  \n",
       "\n",
       "[1836 rows x 11 columns]"
      ]
     },
     "execution_count": 3,
     "metadata": {},
     "output_type": "execute_result"
    }
   ],
   "source": [
    "df=pd.read_csv(r\"C:\\Users\\SHAIK JULFEEN AHMADH\\Downloads\\mobile_dataset.csv\")\n",
    "df"
   ]
  },
  {
   "cell_type": "code",
   "execution_count": 4,
   "id": "54c4203d",
   "metadata": {},
   "outputs": [
    {
     "data": {
      "text/plain": [
       "Index(['Phone Name', 'Rating ?/5', 'Number of Ratings', 'RAM', 'ROM/Storage',\n",
       "       'Back/Rare Camera', 'Front Camera', 'Battery', 'Processor',\n",
       "       'Price in INR', 'Date of Scraping'],\n",
       "      dtype='object')"
      ]
     },
     "execution_count": 4,
     "metadata": {},
     "output_type": "execute_result"
    }
   ],
   "source": [
    "df.columns"
   ]
  },
  {
   "cell_type": "code",
   "execution_count": 6,
   "id": "f446da94",
   "metadata": {},
   "outputs": [
    {
     "data": {
      "text/plain": [
       "dtype('float64')"
      ]
     },
     "execution_count": 6,
     "metadata": {},
     "output_type": "execute_result"
    }
   ],
   "source": [
    "df[ 'Number of Ratings'].dtype\n"
   ]
  },
  {
   "cell_type": "code",
   "execution_count": 19,
   "id": "2aac024b",
   "metadata": {},
   "outputs": [
    {
     "data": {
      "text/plain": [
       "count    1.836000e+03\n",
       "mean     4.669473e+04\n",
       "std      9.756649e+04\n",
       "min      0.000000e+00\n",
       "25%      1.313000e+03\n",
       "50%      8.391000e+03\n",
       "75%      4.149500e+04\n",
       "max      1.342530e+06\n",
       "Name: Number of Ratings, dtype: float64"
      ]
     },
     "execution_count": 19,
     "metadata": {},
     "output_type": "execute_result"
    }
   ],
   "source": [
    "df[ 'Number of Ratings'].describe()"
   ]
  },
  {
   "cell_type": "code",
   "execution_count": 20,
   "id": "d022e146",
   "metadata": {},
   "outputs": [
    {
     "data": {
      "text/plain": [
       "count    1836.000000\n",
       "mean        4.210512\n",
       "std         0.543912\n",
       "min         0.000000\n",
       "25%         4.200000\n",
       "50%         4.300000\n",
       "75%         4.400000\n",
       "max         4.800000\n",
       "Name: Rating ?/5, dtype: float64"
      ]
     },
     "execution_count": 20,
     "metadata": {},
     "output_type": "execute_result"
    }
   ],
   "source": [
    "df['Rating ?/5'].describe()"
   ]
  },
  {
   "cell_type": "code",
   "execution_count": 21,
   "id": "73373e35",
   "metadata": {},
   "outputs": [
    {
     "data": {
      "text/plain": [
       "count       1836\n",
       "unique       519\n",
       "top       ₹9,999\n",
       "freq          47\n",
       "Name: Price in INR, dtype: object"
      ]
     },
     "execution_count": 21,
     "metadata": {},
     "output_type": "execute_result"
    }
   ],
   "source": [
    "df['Price in INR'].describe()"
   ]
  },
  {
   "cell_type": "code",
   "execution_count": 22,
   "id": "96fbec0e",
   "metadata": {},
   "outputs": [
    {
     "name": "stdout",
     "output_type": "stream",
     "text": [
      "<class 'pandas.core.frame.DataFrame'>\n",
      "RangeIndex: 1836 entries, 0 to 1835\n",
      "Data columns (total 11 columns):\n",
      " #   Column             Non-Null Count  Dtype  \n",
      "---  ------             --------------  -----  \n",
      " 0   Phone Name         1836 non-null   object \n",
      " 1   Rating ?/5         1836 non-null   float64\n",
      " 2   Number of Ratings  1836 non-null   float64\n",
      " 3   RAM                1836 non-null   object \n",
      " 4   ROM/Storage        1662 non-null   object \n",
      " 5   Back/Rare Camera   1827 non-null   object \n",
      " 6   Front Camera       1435 non-null   object \n",
      " 7   Battery            1826 non-null   object \n",
      " 8   Processor          1781 non-null   object \n",
      " 9   Price in INR       1836 non-null   object \n",
      " 10  Date of Scraping   1836 non-null   object \n",
      "dtypes: float64(2), object(9)\n",
      "memory usage: 157.9+ KB\n"
     ]
    }
   ],
   "source": [
    "df.info()"
   ]
  },
  {
   "cell_type": "raw",
   "id": "b6b5ffe5",
   "metadata": {},
   "source": []
  },
  {
   "cell_type": "code",
   "execution_count": 24,
   "id": "828a6e72",
   "metadata": {},
   "outputs": [
    {
     "data": {
      "text/html": [
       "<div>\n",
       "<style scoped>\n",
       "    .dataframe tbody tr th:only-of-type {\n",
       "        vertical-align: middle;\n",
       "    }\n",
       "\n",
       "    .dataframe tbody tr th {\n",
       "        vertical-align: top;\n",
       "    }\n",
       "\n",
       "    .dataframe thead th {\n",
       "        text-align: right;\n",
       "    }\n",
       "</style>\n",
       "<table border=\"1\" class=\"dataframe\">\n",
       "  <thead>\n",
       "    <tr style=\"text-align: right;\">\n",
       "      <th></th>\n",
       "      <th>Rating ?/5</th>\n",
       "      <th>Number of Ratings</th>\n",
       "    </tr>\n",
       "  </thead>\n",
       "  <tbody>\n",
       "    <tr>\n",
       "      <th>count</th>\n",
       "      <td>1836.000000</td>\n",
       "      <td>1.836000e+03</td>\n",
       "    </tr>\n",
       "    <tr>\n",
       "      <th>mean</th>\n",
       "      <td>4.210512</td>\n",
       "      <td>4.669473e+04</td>\n",
       "    </tr>\n",
       "    <tr>\n",
       "      <th>std</th>\n",
       "      <td>0.543912</td>\n",
       "      <td>9.756649e+04</td>\n",
       "    </tr>\n",
       "    <tr>\n",
       "      <th>min</th>\n",
       "      <td>0.000000</td>\n",
       "      <td>0.000000e+00</td>\n",
       "    </tr>\n",
       "    <tr>\n",
       "      <th>25%</th>\n",
       "      <td>4.200000</td>\n",
       "      <td>1.313000e+03</td>\n",
       "    </tr>\n",
       "    <tr>\n",
       "      <th>50%</th>\n",
       "      <td>4.300000</td>\n",
       "      <td>8.391000e+03</td>\n",
       "    </tr>\n",
       "    <tr>\n",
       "      <th>75%</th>\n",
       "      <td>4.400000</td>\n",
       "      <td>4.149500e+04</td>\n",
       "    </tr>\n",
       "    <tr>\n",
       "      <th>max</th>\n",
       "      <td>4.800000</td>\n",
       "      <td>1.342530e+06</td>\n",
       "    </tr>\n",
       "  </tbody>\n",
       "</table>\n",
       "</div>"
      ],
      "text/plain": [
       "        Rating ?/5  Number of Ratings\n",
       "count  1836.000000       1.836000e+03\n",
       "mean      4.210512       4.669473e+04\n",
       "std       0.543912       9.756649e+04\n",
       "min       0.000000       0.000000e+00\n",
       "25%       4.200000       1.313000e+03\n",
       "50%       4.300000       8.391000e+03\n",
       "75%       4.400000       4.149500e+04\n",
       "max       4.800000       1.342530e+06"
      ]
     },
     "execution_count": 24,
     "metadata": {},
     "output_type": "execute_result"
    }
   ],
   "source": [
    "df.describe()"
   ]
  },
  {
   "cell_type": "code",
   "execution_count": 26,
   "id": "0e5ecb5e",
   "metadata": {},
   "outputs": [
    {
     "data": {
      "text/plain": [
       "46694.72766884531"
      ]
     },
     "execution_count": 26,
     "metadata": {},
     "output_type": "execute_result"
    }
   ],
   "source": [
    "df[ 'Number of Ratings'].mean()"
   ]
  },
  {
   "cell_type": "code",
   "execution_count": null,
   "id": "d54649a4",
   "metadata": {},
   "outputs": [],
   "source": []
  }
 ],
 "metadata": {
  "kernelspec": {
   "display_name": "Python 3 (ipykernel)",
   "language": "python",
   "name": "python3"
  },
  "language_info": {
   "codemirror_mode": {
    "name": "ipython",
    "version": 3
   },
   "file_extension": ".py",
   "mimetype": "text/x-python",
   "name": "python",
   "nbconvert_exporter": "python",
   "pygments_lexer": "ipython3",
   "version": "3.9.13"
  }
 },
 "nbformat": 4,
 "nbformat_minor": 5
}
