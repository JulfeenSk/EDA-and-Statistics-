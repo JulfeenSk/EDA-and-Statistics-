{
  "nbformat": 4,
  "nbformat_minor": 0,
  "metadata": {
    "colab": {
      "provenance": []
    },
    "kernelspec": {
      "name": "python3",
      "display_name": "Python 3"
    },
    "language_info": {
      "name": "python"
    }
  },
  "cells": [
    {
      "cell_type": "code",
      "source": [
        "pip install scikit-posthocs"
      ],
      "metadata": {
        "colab": {
          "base_uri": "https://localhost:8080/"
        },
        "id": "ZbEwKTNekxB7",
        "outputId": "3633f6a7-11fa-4530-ba18-c2cf600cbcd4"
      },
      "execution_count": 23,
      "outputs": [
        {
          "output_type": "stream",
          "name": "stdout",
          "text": [
            "Collecting scikit-posthocs\n",
            "  Downloading scikit_posthocs-0.8.0-py3-none-any.whl (32 kB)\n",
            "Requirement already satisfied: numpy in /usr/local/lib/python3.10/dist-packages (from scikit-posthocs) (1.23.5)\n",
            "Requirement already satisfied: scipy in /usr/local/lib/python3.10/dist-packages (from scikit-posthocs) (1.11.3)\n",
            "Requirement already satisfied: statsmodels in /usr/local/lib/python3.10/dist-packages (from scikit-posthocs) (0.14.0)\n",
            "Requirement already satisfied: pandas>=0.20.0 in /usr/local/lib/python3.10/dist-packages (from scikit-posthocs) (1.5.3)\n",
            "Requirement already satisfied: seaborn in /usr/local/lib/python3.10/dist-packages (from scikit-posthocs) (0.12.2)\n",
            "Requirement already satisfied: matplotlib in /usr/local/lib/python3.10/dist-packages (from scikit-posthocs) (3.7.1)\n",
            "Requirement already satisfied: python-dateutil>=2.8.1 in /usr/local/lib/python3.10/dist-packages (from pandas>=0.20.0->scikit-posthocs) (2.8.2)\n",
            "Requirement already satisfied: pytz>=2020.1 in /usr/local/lib/python3.10/dist-packages (from pandas>=0.20.0->scikit-posthocs) (2023.3.post1)\n",
            "Requirement already satisfied: contourpy>=1.0.1 in /usr/local/lib/python3.10/dist-packages (from matplotlib->scikit-posthocs) (1.2.0)\n",
            "Requirement already satisfied: cycler>=0.10 in /usr/local/lib/python3.10/dist-packages (from matplotlib->scikit-posthocs) (0.12.1)\n",
            "Requirement already satisfied: fonttools>=4.22.0 in /usr/local/lib/python3.10/dist-packages (from matplotlib->scikit-posthocs) (4.44.0)\n",
            "Requirement already satisfied: kiwisolver>=1.0.1 in /usr/local/lib/python3.10/dist-packages (from matplotlib->scikit-posthocs) (1.4.5)\n",
            "Requirement already satisfied: packaging>=20.0 in /usr/local/lib/python3.10/dist-packages (from matplotlib->scikit-posthocs) (23.2)\n",
            "Requirement already satisfied: pillow>=6.2.0 in /usr/local/lib/python3.10/dist-packages (from matplotlib->scikit-posthocs) (9.4.0)\n",
            "Requirement already satisfied: pyparsing>=2.3.1 in /usr/local/lib/python3.10/dist-packages (from matplotlib->scikit-posthocs) (3.1.1)\n",
            "Requirement already satisfied: patsy>=0.5.2 in /usr/local/lib/python3.10/dist-packages (from statsmodels->scikit-posthocs) (0.5.3)\n",
            "Requirement already satisfied: six in /usr/local/lib/python3.10/dist-packages (from patsy>=0.5.2->statsmodels->scikit-posthocs) (1.16.0)\n",
            "Installing collected packages: scikit-posthocs\n",
            "Successfully installed scikit-posthocs-0.8.0\n"
          ]
        }
      ]
    },
    {
      "cell_type": "code",
      "execution_count": 24,
      "metadata": {
        "id": "dn7uvJ9VX5ik"
      },
      "outputs": [],
      "source": [
        "import numpy as np\n",
        "from scipy import stats\n",
        "import pandas as pd\n",
        "import scikit_posthocs as sp\n",
        "pd.options.display.float_format = '{:,.4f}'.format"
      ]
    },
    {
      "cell_type": "code",
      "source": [
        "def check_normality(data):\n",
        "    test_stat_normality, p_value_normality=stats.shapiro(data)\n",
        "    print(\"p value:%.4f\" % p_value_normality)\n",
        "    if p_value_normality <0.05:\n",
        "        print(\"Reject null hypothesis >> The data is not normally distributed\")\n",
        "    else:\n",
        "        print(\"Fail to reject null hypothesis >> The data is normally distributed\")"
      ],
      "metadata": {
        "id": "dIPRYg8lX6P2"
      },
      "execution_count": 5,
      "outputs": []
    },
    {
      "cell_type": "code",
      "source": [
        "def check_variance_homogeneity(group1, group2):\n",
        "    test_stat_var, p_value_var= stats.levene(group1,group2)\n",
        "    print(\"p value:%.4f\" % p_value_var)\n",
        "    if p_value_var <0.05:\n",
        "        print(\"Reject null hypothesis >> The variances of the samples are different.\")\n",
        "    else:\n",
        "        print(\"Fail to reject null hypothesis >> The variances of the samples are same.\")"
      ],
      "metadata": {
        "id": "5Cv8hjaMX_kl"
      },
      "execution_count": 6,
      "outputs": []
    },
    {
      "cell_type": "markdown",
      "source": [
        "A university professor gave online lectures instead of face-to-face classes due to Covid-19. Later, he uploaded recorded lectures to the cloud for students who followed the course asynchronously (those who did not attend the lesson but later watched the records). However, he believes that the students who attend class at the class time and participate in the process are more successful. Therefore, he recorded the average grades of the students at the end of the semester. The data is below.\n",
        "\n",
        "synchronous = [94. , 84.9, 82.6, 69.5, 80.1, 79.6, 81.4, 77.8, 81.7, 78.8, 73.2, 87.9, 87.9, 93.5, 82.3, 79.3, 78.3, 71.6, 88.6, 74.6, 74.1, 80.6]\n",
        "\n",
        "asynchronous = [77.1, 71.7, 91. , 72.2, 74.8, 85.1, 67.6, 69.9, 75.3, 71.7, 65.7, 72.6, 71.5, 78.2]\n",
        "\n",
        "Conduct the hypothesis testing to check whether the professor's belief is statistically significant by using a 0.05 significance level to evaluate the null and alternative hypotheses. Before doing hypothesis testing, check the related assumptions. Comment on the results.\n",
        "\n",
        "Assumptions\n",
        "\n",
        "Observations in each sample are independent and identically distributed (iid).\n",
        "\n",
        "Observations in each sample are normally distributed.\n",
        "\n",
        "Observations in each sample have the same variance.\n",
        "\n",
        "\n",
        "\n"
      ],
      "metadata": {
        "id": "4qU1thSLYBfj"
      }
    },
    {
      "cell_type": "code",
      "source": [
        "sync = np.array([94. , 84.9, 82.6, 69.5, 80.1, 79.6, 81.4, 77.8, 81.7, 78.8, 73.2,\n",
        "       87.9, 87.9, 93.5, 82.3, 79.3, 78.3, 71.6, 88.6, 74.6, 74.1, 80.6])\n",
        "asyncr =np.array([77.1, 71.7, 91. , 72.2, 74.8, 85.1, 67.6, 69.9, 75.3, 71.7, 65.7, 72.6, 71.5, 78.2])"
      ],
      "metadata": {
        "id": "WjUdNx0UYAMD"
      },
      "execution_count": 7,
      "outputs": []
    },
    {
      "cell_type": "markdown",
      "source": [
        "H0: The data is normally distributed.\n",
        "\n",
        "H1: The data is not normally distributed.\n",
        "\n",
        "Assume that alpha=0.05\n",
        "\n",
        "If p-value is >0.05, it can be said that data is normally distributed."
      ],
      "metadata": {
        "id": "XQ8y_JvcZm7m"
      }
    },
    {
      "cell_type": "code",
      "source": [
        "check_normality(sync)\n",
        "check_normality(asyncr)"
      ],
      "metadata": {
        "colab": {
          "base_uri": "https://localhost:8080/"
        },
        "id": "CQNXuXO8ZGL9",
        "outputId": "a5aa40d1-34fd-480f-d1bd-592b5b6a4d7e"
      },
      "execution_count": 8,
      "outputs": [
        {
          "output_type": "stream",
          "name": "stdout",
          "text": [
            "p value:0.6556\n",
            "Fail to reject null hypothesis >> The data is normally distributed\n",
            "p value:0.0803\n",
            "Fail to reject null hypothesis >> The data is normally distributed\n"
          ]
        }
      ]
    },
    {
      "cell_type": "markdown",
      "source": [
        "p value:0.6556\n",
        "\n",
        "Fail to reject null hypothesis >> The data is normally distributed\n",
        "\n",
        "p value:0.0803\n",
        "\n",
        "Fail to reject null hypothesis >> The data is normally distributed"
      ],
      "metadata": {
        "id": "EaEh1dhOaj_4"
      }
    },
    {
      "cell_type": "markdown",
      "source": [
        "H0: The variances of the samples are same.\n",
        "\n",
        "H1: The variances of the samples are different.\n",
        "\n",
        "It tests the null hypothesis that the population variances are equal (called homogeneity of variance or homoscedasticity).\n",
        "\n",
        "If the resulting p-value of Levene's test is less than some significance level (typically 0.05), the obtained differences in sample variances are unlikely to have occurred based on random sampling from a population with equal variances"
      ],
      "metadata": {
        "id": "ryKu3FnWa999"
      }
    },
    {
      "cell_type": "code",
      "source": [
        "check_variance_homogeneity(sync, asyncr)"
      ],
      "metadata": {
        "colab": {
          "base_uri": "https://localhost:8080/"
        },
        "id": "15UU_3H7ag_J",
        "outputId": "8e6e9aed-7868-40dd-e454-3320007f1fbb"
      },
      "execution_count": 9,
      "outputs": [
        {
          "output_type": "stream",
          "name": "stdout",
          "text": [
            "p value:0.8149\n",
            "Fail to reject null hypothesis >> The variances of the samples are same.\n"
          ]
        }
      ]
    },
    {
      "cell_type": "markdown",
      "source": [
        "p value:0.8149\n",
        "\n",
        "Fail to reject null hypothesis >> The variances of the samples are same."
      ],
      "metadata": {
        "id": "9td8J9Q8bTlC"
      }
    },
    {
      "cell_type": "code",
      "source": [
        "ttest,p_value = stats.ttest_ind(sync,asyncr)\n",
        "print(\"p value:%.8f\" % p_value)\n",
        "print(\"since the hypothesis is one sided >> use p_value/2 >> p_value_one_sided:%.4f\" %(p_value/2))\n",
        "if p_value/2 <0.05:\n",
        "    print(\"Reject null hypothesis\")\n",
        "else:\n",
        "    print(\"Fail to reject null hypothesis\")"
      ],
      "metadata": {
        "colab": {
          "base_uri": "https://localhost:8080/"
        },
        "id": "nGzI1IombRUM",
        "outputId": "ec10656e-eb9c-462c-a776-5f4216d76d0b"
      },
      "execution_count": 10,
      "outputs": [
        {
          "output_type": "stream",
          "name": "stdout",
          "text": [
            "p value:0.00753598\n",
            "since the hypothesis is one sided >> use p_value/2 >> p_value_one_sided:0.0038\n",
            "Reject null hypothesis\n"
          ]
        }
      ]
    },
    {
      "cell_type": "markdown",
      "source": [
        "p value:0.00753598\n",
        "\n",
        "since the hypothesis is one sided we should use p_value/2\n",
        "\n",
        "so p_value_one_sided:0.0038\n",
        "\n",
        "Reject null hypothesis\n",
        "\n",
        "**At this significance level, there is enough evidence to conclude that the average grade of the students who follow the course synchronously is higher than the async.**"
      ],
      "metadata": {
        "id": "XfN9pINZbZua"
      }
    },
    {
      "cell_type": "markdown",
      "source": [
        "\n",
        "\n",
        "---\n",
        "\n",
        "A pediatrician wants to see the effect of formula consumption on the average monthly weight gain (in gr) of babies. For this reason, she collected data from three different groups. The first group is exclusively breastfed children(receives only breast milk), the second group is children who are fed with only formula and the last group is both formula and breastfed children. These data are as below\n",
        "\n",
        "only_breast=[794.1, 716.9, 993. , 724.7, 760.9, 908.2, 659.3 , 690.8, 768.7, 717.3 , 630.7, 729.5, 714.1, 810.3, 583.5, 679.9, 865.1]\n",
        "\n",
        "only_formula=[ 898.8, 881.2, 940.2, 966.2, 957.5, 1061.7, 1046.2, 980.4, 895.6, 919.7, 1074.1, 952.5, 796.3, 859.6, 871.1 , 1047.5, 919.1 , 1160.5, 996.9]\n",
        "\n",
        "both=[976.4, 656.4, 861.2, 706.8, 718.5, 717.1, 759.8, 894.6, 867.6, 805.6, 765.4, 800.3, 789.9, 875.3, 740. , 799.4, 790.3, 795.2 , 823.6, 818.7, 926.8, 791.7, 948.3]\n",
        "\n",
        "According to this information, conduct the hypothesis testing to check whether there is a difference between the average monthly gain of these three groups by using a 0.05 significance level. If there is a significant difference, perform further analysis to find what caused the difference. Before doing hypothesis testing, check the related assumptions. Comment on the results."
      ],
      "metadata": {
        "id": "7i6FyO6AbqRJ"
      }
    },
    {
      "cell_type": "code",
      "source": [
        "only_breast=np.array([794.1, 716.9, 993. , 724.7, 760.9, 908.2, 659.3 , 690.8, 768.7,\n",
        "       717.3 , 630.7, 729.5, 714.1, 810.3, 583.5, 679.9, 865.1])\n",
        "\n",
        "only_formula=np.array([ 898.8,  881.2,  940.2,  966.2,  957.5, 1061.7, 1046.2,  980.4,\n",
        "        895.6,  919.7, 1074.1,  952.5,  796.3,  859.6,  871.1 , 1047.5,\n",
        "        919.1 , 1160.5,  996.9])\n",
        "\n",
        "both=np.array([976.4, 656.4, 861.2, 706.8, 718.5, 717.1, 759.8, 894.6, 867.6,\n",
        "       805.6, 765.4, 800.3, 789.9, 875.3, 740. , 799.4, 790.3, 795.2 ,\n",
        "       823.6, 818.7, 926.8, 791.7, 948.3])"
      ],
      "metadata": {
        "id": "uIBpPBOnbLyc"
      },
      "execution_count": 11,
      "outputs": []
    },
    {
      "cell_type": "markdown",
      "source": [
        "H0: The data is normally distributed.\n",
        "\n",
        "H1: The data is not normally distributed."
      ],
      "metadata": {
        "id": "RRCoZwRzb39B"
      }
    },
    {
      "cell_type": "code",
      "source": [
        "check_normality(only_breast)\n",
        "check_normality(only_formula)\n",
        "check_normality(both)"
      ],
      "metadata": {
        "colab": {
          "base_uri": "https://localhost:8080/"
        },
        "id": "2dFdAdRXb1GM",
        "outputId": "6943eb50-b76b-47ce-b7b0-e2653b64a9a7"
      },
      "execution_count": 12,
      "outputs": [
        {
          "output_type": "stream",
          "name": "stdout",
          "text": [
            "p value:0.4694\n",
            "Fail to reject null hypothesis >> The data is normally distributed\n",
            "p value:0.8879\n",
            "Fail to reject null hypothesis >> The data is normally distributed\n",
            "p value:0.7973\n",
            "Fail to reject null hypothesis >> The data is normally distributed\n"
          ]
        }
      ]
    },
    {
      "cell_type": "markdown",
      "source": [
        "H0: The variances of the samples are the same.\n",
        "\n",
        "H1: The variances of the samples are different."
      ],
      "metadata": {
        "id": "a5qpGmYQcCIj"
      }
    },
    {
      "cell_type": "code",
      "source": [
        "stat, pvalue_levene= stats.levene(only_breast,only_formula,both)\n",
        "\n",
        "print(\"p value:%.4f\" % pvalue_levene)\n",
        "if pvalue_levene <0.05:\n",
        "    print(\"Reject null hypothesis >> The variances of the samples are different.\")\n",
        "else:\n",
        "    print(\"Fail to reject null hypothesis >> The variances of the samples are same.\")"
      ],
      "metadata": {
        "colab": {
          "base_uri": "https://localhost:8080/"
        },
        "id": "9FtQtTAqb9y5",
        "outputId": "8bf9930b-6008-43d0-c51a-ee60c81f6e8b"
      },
      "execution_count": 13,
      "outputs": [
        {
          "output_type": "stream",
          "name": "stdout",
          "text": [
            "p value:0.7673\n",
            "Fail to reject null hypothesis >> The variances of the samples are same.\n"
          ]
        }
      ]
    },
    {
      "cell_type": "markdown",
      "source": [
        "H0: The mean of the samples is the same.\n",
        "\n",
        "H1: At least one of them is different."
      ],
      "metadata": {
        "id": "TG71zd7ScP3j"
      }
    },
    {
      "cell_type": "code",
      "source": [
        "F, p_value = stats.f_oneway(only_breast,only_formula,both)\n",
        "print(\"p value:%.6f\" % p_value)\n",
        "if p_value <0.05:\n",
        "    print(\"Reject null hypothesis\")\n",
        "else:\n",
        "    print(\"Fail to reject null hypothesis\")"
      ],
      "metadata": {
        "colab": {
          "base_uri": "https://localhost:8080/"
        },
        "id": "xVNqxxbBcMxz",
        "outputId": "26dc0c80-cfa9-4bd3-f023-af7f3442c715"
      },
      "execution_count": 14,
      "outputs": [
        {
          "output_type": "stream",
          "name": "stdout",
          "text": [
            "p value:0.000000\n",
            "Reject null hypothesis\n"
          ]
        }
      ]
    },
    {
      "cell_type": "markdown",
      "source": [
        "**At this significance level, it can be concluded that at least one of the groups has a different average monthly weight gain.**"
      ],
      "metadata": {
        "id": "IpjVs98Ncb1N"
      }
    },
    {
      "cell_type": "code",
      "source": [
        "posthoc_df= sp.posthoc_ttest([only_breast,only_formula,both], equal_var=True, p_adjust=\"bonferroni\")\n",
        "\n",
        "group_names= [\"only breast\", \"only formula\",\"both\"]\n",
        "posthoc_df.columns= group_names\n",
        "posthoc_df.index= group_names\n",
        "posthoc_df.style.applymap(lambda x: \"background-color:violet\" if x<0.05 else \"background-color: white\")"
      ],
      "metadata": {
        "colab": {
          "base_uri": "https://localhost:8080/",
          "height": 143
        },
        "id": "3AvFzAGKk9wt",
        "outputId": "1341b585-9b88-494d-9279-3fee72eb354a"
      },
      "execution_count": 25,
      "outputs": [
        {
          "output_type": "execute_result",
          "data": {
            "text/plain": [
              "<pandas.io.formats.style.Styler at 0x7b4b2a3c6ef0>"
            ],
            "text/html": [
              "<style type=\"text/css\">\n",
              "#T_85802_row0_col0, #T_85802_row0_col2, #T_85802_row1_col1, #T_85802_row2_col0, #T_85802_row2_col2 {\n",
              "  background-color: white;\n",
              "}\n",
              "#T_85802_row0_col1, #T_85802_row1_col0, #T_85802_row1_col2, #T_85802_row2_col1 {\n",
              "  background-color: violet;\n",
              "}\n",
              "</style>\n",
              "<table id=\"T_85802\" class=\"dataframe\">\n",
              "  <thead>\n",
              "    <tr>\n",
              "      <th class=\"blank level0\" >&nbsp;</th>\n",
              "      <th id=\"T_85802_level0_col0\" class=\"col_heading level0 col0\" >only breast</th>\n",
              "      <th id=\"T_85802_level0_col1\" class=\"col_heading level0 col1\" >only formula</th>\n",
              "      <th id=\"T_85802_level0_col2\" class=\"col_heading level0 col2\" >both</th>\n",
              "    </tr>\n",
              "  </thead>\n",
              "  <tbody>\n",
              "    <tr>\n",
              "      <th id=\"T_85802_level0_row0\" class=\"row_heading level0 row0\" >only breast</th>\n",
              "      <td id=\"T_85802_row0_col0\" class=\"data row0 col0\" >1.000000</td>\n",
              "      <td id=\"T_85802_row0_col1\" class=\"data row0 col1\" >0.000000</td>\n",
              "      <td id=\"T_85802_row0_col2\" class=\"data row0 col2\" >0.129454</td>\n",
              "    </tr>\n",
              "    <tr>\n",
              "      <th id=\"T_85802_level0_row1\" class=\"row_heading level0 row1\" >only formula</th>\n",
              "      <td id=\"T_85802_row1_col0\" class=\"data row1 col0\" >0.000000</td>\n",
              "      <td id=\"T_85802_row1_col1\" class=\"data row1 col1\" >1.000000</td>\n",
              "      <td id=\"T_85802_row1_col2\" class=\"data row1 col2\" >0.000004</td>\n",
              "    </tr>\n",
              "    <tr>\n",
              "      <th id=\"T_85802_level0_row2\" class=\"row_heading level0 row2\" >both</th>\n",
              "      <td id=\"T_85802_row2_col0\" class=\"data row2 col0\" >0.129454</td>\n",
              "      <td id=\"T_85802_row2_col1\" class=\"data row2 col1\" >0.000004</td>\n",
              "      <td id=\"T_85802_row2_col2\" class=\"data row2 col2\" >1.000000</td>\n",
              "    </tr>\n",
              "  </tbody>\n",
              "</table>\n"
            ]
          },
          "metadata": {},
          "execution_count": 25
        }
      ]
    },
    {
      "cell_type": "markdown",
      "source": [
        "At this significance level, it can be concluded that\n",
        "\n",
        "*   \"only breast\" is different than \"only formula\"\n",
        "*   \"only formula\" is different than both \"only breast\" and \"both\"\n",
        "*   \"both\" is different than \"only formula\""
      ],
      "metadata": {
        "id": "HMWNGCxLlDdK"
      }
    },
    {
      "cell_type": "markdown",
      "source": [
        "\n",
        "\n",
        "---\n",
        "\n",
        "A human resource specialist working in a technology company is interested in the overwork time of different teams. To investigate whether there is a difference between overtime of the software development team and the test team, she selected 17 employees randomly in each of the two teams and recorded their weekly average overwork time in terms of an hour. The data is below.\n",
        "\n",
        "test_team=[6.2, 7.1, 1.5, 2,3 , 2, 1.5, 6.1, 2.4, 2.3, 12.4, 1.8, 5.3, 3.1, 9.4, 2.3, 4.1]\n",
        "\n",
        "software_team=[2.3, 2.1, 1.4, 2.0, 8.7, 2.2, 3.1, 4.2, 3.6, 2.5, 3.1, 6.2, 12.1, 3.9, 2.2, 1.2 ,3.4]\n",
        "\n",
        "According to this information, conduct the hypothesis testing to check whether there is a difference between the overwork time of two teams by using a 0.05 significance level. Before doing hypothesis testing, check the related assumptions. Comment on the results"
      ],
      "metadata": {
        "id": "dUrMdcFoiMzz"
      }
    },
    {
      "cell_type": "code",
      "source": [
        "test_team=np.array([6.2,  7.1,  1.5,  2,3 ,  2,  1.5,  6.1,  2.4,  2.3, 12.4,  1.8,  5.3,  3.1, 9.4,  2.3, 4.1])\n",
        "developer_team=np.array([2.3,  2.1,  1.4,  2.0, 8.7,  2.2,  3.1,  4.2,  3.6, 2.5,  3.1,  6.2, 12.1,  3.9,  2.2, 1.2 ,3.4])"
      ],
      "metadata": {
        "id": "BYtohyX2ceOG"
      },
      "execution_count": 15,
      "outputs": []
    },
    {
      "cell_type": "markdown",
      "source": [
        "H0: The data is normally distributed.\n",
        "\n",
        "H1: The data is not normally distributed."
      ],
      "metadata": {
        "id": "MVqsvv3ViXci"
      }
    },
    {
      "cell_type": "code",
      "source": [
        "check_normality(test_team)\n",
        "check_normality(developer_team)"
      ],
      "metadata": {
        "colab": {
          "base_uri": "https://localhost:8080/"
        },
        "id": "8GltyivMiWRw",
        "outputId": "559adde3-1c90-476d-9ed8-392a7d4d9f73"
      },
      "execution_count": 16,
      "outputs": [
        {
          "output_type": "stream",
          "name": "stdout",
          "text": [
            "p value:0.0046\n",
            "Reject null hypothesis >> The data is not normally distributed\n",
            "p value:0.0005\n",
            "Reject null hypothesis >> The data is not normally distributed\n"
          ]
        }
      ]
    },
    {
      "cell_type": "markdown",
      "source": [
        "H0: The variances of the samples are the same.\n",
        "\n",
        "H1: The variances of the samples are different."
      ],
      "metadata": {
        "id": "pRRz_9guim1i"
      }
    },
    {
      "cell_type": "code",
      "source": [
        "check_variance_homogeneity(test_team, developer_team)"
      ],
      "metadata": {
        "colab": {
          "base_uri": "https://localhost:8080/"
        },
        "id": "Q7MutMfCiV-q",
        "outputId": "f020a362-6a65-4ab8-b2ba-c3441423b8ea"
      },
      "execution_count": 17,
      "outputs": [
        {
          "output_type": "stream",
          "name": "stdout",
          "text": [
            "p value:0.5410\n",
            "Fail to reject null hypothesis >> The variances of the samples are same.\n"
          ]
        }
      ]
    },
    {
      "cell_type": "markdown",
      "source": [
        "H0: The mean of the samples are same.\n",
        "\n",
        "H1: The mean of the samples are different."
      ],
      "metadata": {
        "id": "RKG1uXvri5EY"
      }
    },
    {
      "cell_type": "code",
      "source": [
        "ttest,pvalue = stats.mannwhitneyu(test_team,developer_team, alternative=\"two-sided\")\n",
        "print(\"p-value:%.4f\" % pvalue)\n",
        "if pvalue <0.05:\n",
        "    print(\"Reject null hypothesis\")\n",
        "else:\n",
        "    print(\"Fail to recejt null hypothesis\")"
      ],
      "metadata": {
        "colab": {
          "base_uri": "https://localhost:8080/"
        },
        "id": "6AY5L5M7i2Fv",
        "outputId": "eceb5d3f-bcbc-4c6a-d1f6-017c97ae7bd4"
      },
      "execution_count": 18,
      "outputs": [
        {
          "output_type": "stream",
          "name": "stdout",
          "text": [
            "p-value:0.8226\n",
            "Fail to recejt null hypothesis\n"
          ]
        }
      ]
    },
    {
      "cell_type": "markdown",
      "source": [
        "**At this significance level, it can be said that there is no statistically significant difference between the average overwork time of the two teams.**"
      ],
      "metadata": {
        "id": "nDoF73zPjCIT"
      }
    },
    {
      "cell_type": "markdown",
      "source": [
        "\n",
        "\n",
        "---\n",
        "An e-commerce company regularly advertises on YouTube, Instagram, and Facebook for its campaigns. However, the new manager was curious about if there was any difference between the number of customers attracted by these platforms. Therefore, she started to use Adjust, an application that allows you to find out where your users come from. The daily numbers reported from Adjust for each platform are as below.\n",
        "\n",
        "youtube=[1913, 1879, 1939, 2146, 2040, 2127, 2122, 2156, 2036, 1974, 1956, 2146, 2151, 1943, 2125]\n",
        "\n",
        "instagram = [2305., 2355., 2203., 2231., 2185., 2420., 2386., 2410., 2340., 2349., 2241., 2396., 2244., 2267., 2281.]\n",
        "\n",
        "facebook = [2133., 2522., 2124., 2551., 2293., 2367., 2460., 2311., 2178., 2113., 2048., 2443., 2265., 2095., 2528.]\n",
        "\n",
        "According to this information, conduct the hypothesis testing to check whether there is a difference between the average customer acquisition of these three platforms using a 0.05 significance level. If there is a significant difference, perform further analysis to find that caused the difference. Before doing hypothesis testing, check the related assumptions. Comment on the results.\n"
      ],
      "metadata": {
        "id": "5cZ_3AYQjHDz"
      }
    },
    {
      "cell_type": "code",
      "source": [
        "youtube=np.array([1913, 1879, 1939, 2146, 2040, 2127, 2122, 2156, 2036, 1974, 1956,\n",
        "       2146, 2151, 1943, 2125])\n",
        "\n",
        "instagram =  np.array([2305., 2355., 2203., 2231., 2185., 2420., 2386., 2410., 2340.,\n",
        "       2349., 2241., 2396., 2244., 2267., 2281.])\n",
        "\n",
        "facebook = np.array([2133., 2522., 2124., 2551., 2293., 2367., 2460., 2311., 2178.,\n",
        "       2113., 2048., 2443., 2265., 2095., 2528.])"
      ],
      "metadata": {
        "id": "VdFsGWxzjBOD"
      },
      "execution_count": 19,
      "outputs": []
    },
    {
      "cell_type": "markdown",
      "source": [
        "H0: The data is normally distributed.\n",
        "\n",
        "H1: The data is not normally distributed."
      ],
      "metadata": {
        "id": "IfNM96-sjRwK"
      }
    },
    {
      "cell_type": "code",
      "source": [
        "check_normality(youtube)\n",
        "check_normality(instagram)\n",
        "check_normality(facebook)"
      ],
      "metadata": {
        "colab": {
          "base_uri": "https://localhost:8080/"
        },
        "id": "pC5fF7InjRIS",
        "outputId": "50abbd79-3474-4e09-db67-e6220c3e27e4"
      },
      "execution_count": 20,
      "outputs": [
        {
          "output_type": "stream",
          "name": "stdout",
          "text": [
            "p value:0.0285\n",
            "Reject null hypothesis >> The data is not normally distributed\n",
            "p value:0.4156\n",
            "Fail to reject null hypothesis >> The data is normally distributed\n",
            "p value:0.1716\n",
            "Fail to reject null hypothesis >> The data is normally distributed\n"
          ]
        }
      ]
    },
    {
      "cell_type": "markdown",
      "source": [
        "H0: The variances of the samples are the same.\n",
        "\n",
        "H1: The variances of the samples are different."
      ],
      "metadata": {
        "id": "v3TngSdvjZKS"
      }
    },
    {
      "cell_type": "code",
      "source": [
        "stat, pvalue_levene= stats.levene(youtube, instagram, facebook)\n",
        "\n",
        "print(\"p value:%.4f\" % pvalue_levene)\n",
        "if pvalue_levene <0.05:\n",
        "    print(\"Reject null hypothesis >> The variances of the samples are different.\")\n",
        "else:\n",
        "    print(\"Fail to reject null hypothesis >> The variances of the samples are same.\")"
      ],
      "metadata": {
        "colab": {
          "base_uri": "https://localhost:8080/"
        },
        "id": "LdfRPrDljYMx",
        "outputId": "8d97b002-dbae-4237-911a-ff4a8e00f23c"
      },
      "execution_count": 21,
      "outputs": [
        {
          "output_type": "stream",
          "name": "stdout",
          "text": [
            "p value:0.0012\n",
            "Reject null hypothesis >> The variances of the samples are different.\n"
          ]
        }
      ]
    },
    {
      "cell_type": "markdown",
      "source": [
        "H0: The mean of the samples are same.\n",
        "\n",
        "H1: At least one of them is different."
      ],
      "metadata": {
        "id": "P0zG0El3jpgB"
      }
    },
    {
      "cell_type": "code",
      "source": [
        "F, p_value = stats.kruskal(youtube, instagram, facebook)\n",
        "print(\"p value:%.6f\" % p_value)\n",
        "if p_value <0.05:\n",
        "    print(\"Reject null hypothesis\")\n",
        "else:\n",
        "    print(\"Fail to reject null hypothesis\")"
      ],
      "metadata": {
        "colab": {
          "base_uri": "https://localhost:8080/"
        },
        "id": "g6mG-h8xjmSg",
        "outputId": "6a71f964-f0e7-432f-8cc4-e0c3243ff1d7"
      },
      "execution_count": 22,
      "outputs": [
        {
          "output_type": "stream",
          "name": "stdout",
          "text": [
            "p value:0.000015\n",
            "Reject null hypothesis\n"
          ]
        }
      ]
    },
    {
      "cell_type": "markdown",
      "source": [
        "**At this significance level, at least one of the average customer acquisition number is different.**\n"
      ],
      "metadata": {
        "id": "hGeSyo0ZkeJO"
      }
    },
    {
      "cell_type": "code",
      "source": [
        "posthoc_df = sp.posthoc_mannwhitney([youtube,instagram, facebook], p_adjust = 'bonferroni')\n",
        "group_names= [\"youtube\", \"instagram\",\"facebook\"]\n",
        "posthoc_df.columns= group_names\n",
        "posthoc_df.index= group_names\n",
        "posthoc_df.style.applymap(lambda x: \"background-color:violet\" if x<0.05 else \"background-color: white\")"
      ],
      "metadata": {
        "colab": {
          "base_uri": "https://localhost:8080/",
          "height": 143
        },
        "id": "K0ckqVtrkb1c",
        "outputId": "5c9a1aea-a9ca-4eea-b2e4-c85247fc76f9"
      },
      "execution_count": 26,
      "outputs": [
        {
          "output_type": "execute_result",
          "data": {
            "text/plain": [
              "<pandas.io.formats.style.Styler at 0x7b4af4d8f4f0>"
            ],
            "text/html": [
              "<style type=\"text/css\">\n",
              "#T_4ab59_row0_col0, #T_4ab59_row1_col1, #T_4ab59_row1_col2, #T_4ab59_row2_col1, #T_4ab59_row2_col2 {\n",
              "  background-color: white;\n",
              "}\n",
              "#T_4ab59_row0_col1, #T_4ab59_row0_col2, #T_4ab59_row1_col0, #T_4ab59_row2_col0 {\n",
              "  background-color: violet;\n",
              "}\n",
              "</style>\n",
              "<table id=\"T_4ab59\" class=\"dataframe\">\n",
              "  <thead>\n",
              "    <tr>\n",
              "      <th class=\"blank level0\" >&nbsp;</th>\n",
              "      <th id=\"T_4ab59_level0_col0\" class=\"col_heading level0 col0\" >youtube</th>\n",
              "      <th id=\"T_4ab59_level0_col1\" class=\"col_heading level0 col1\" >instagram</th>\n",
              "      <th id=\"T_4ab59_level0_col2\" class=\"col_heading level0 col2\" >facebook</th>\n",
              "    </tr>\n",
              "  </thead>\n",
              "  <tbody>\n",
              "    <tr>\n",
              "      <th id=\"T_4ab59_level0_row0\" class=\"row_heading level0 row0\" >youtube</th>\n",
              "      <td id=\"T_4ab59_row0_col0\" class=\"data row0 col0\" >1.000000</td>\n",
              "      <td id=\"T_4ab59_row0_col1\" class=\"data row0 col1\" >0.000010</td>\n",
              "      <td id=\"T_4ab59_row0_col2\" class=\"data row0 col2\" >0.002337</td>\n",
              "    </tr>\n",
              "    <tr>\n",
              "      <th id=\"T_4ab59_level0_row1\" class=\"row_heading level0 row1\" >instagram</th>\n",
              "      <td id=\"T_4ab59_row1_col0\" class=\"data row1 col0\" >0.000010</td>\n",
              "      <td id=\"T_4ab59_row1_col1\" class=\"data row1 col1\" >1.000000</td>\n",
              "      <td id=\"T_4ab59_row1_col2\" class=\"data row1 col2\" >1.000000</td>\n",
              "    </tr>\n",
              "    <tr>\n",
              "      <th id=\"T_4ab59_level0_row2\" class=\"row_heading level0 row2\" >facebook</th>\n",
              "      <td id=\"T_4ab59_row2_col0\" class=\"data row2 col0\" >0.002337</td>\n",
              "      <td id=\"T_4ab59_row2_col1\" class=\"data row2 col1\" >1.000000</td>\n",
              "      <td id=\"T_4ab59_row2_col2\" class=\"data row2 col2\" >1.000000</td>\n",
              "    </tr>\n",
              "  </tbody>\n",
              "</table>\n"
            ]
          },
          "metadata": {},
          "execution_count": 26
        }
      ]
    },
    {
      "cell_type": "markdown",
      "source": [
        "**The average number of customers coming from YouTube is different than the other (actually smaller than the others).**\n",
        "\n"
      ],
      "metadata": {
        "id": "jqZ7RKDJljeE"
      }
    },
    {
      "cell_type": "markdown",
      "source": [
        "\n",
        "\n",
        "---\n",
        "\n",
        "The METU Health Center diagnosed eighteen students with high cholesterol in the previous semester. Healthcare personnel told these patients about the dangers of high cholesterol and prescribed a diet program. One month later, the patients came for control, and their cholesterol level was reexamined. Test whether there is a difference in the cholesterol levels of the patients.\n",
        "\n",
        "According to this information, conduct the hypothesis testing to check whether there is a decrease in the cholesterol levels of the patients after the diet by using a 0.05 significance level. Before doing hypothesis testing, check the related assumptions. Comment on the results\n",
        "\n",
        "test_results_before_diet=[224, 235, 223, 253, 253, 224, 244, 225, 259, 220, 242, 240, 239, 229, 276, 254, 237, 227]\n",
        "\n",
        "test_results_after_diet=[198, 195, 213, 190, 246, 206, 225, 199, 214, 210, 188, 205, 200, 220, 190, 199, 191, 218]\n",
        "\n",
        "**Assumptions**\n",
        "\n",
        "•  The dependent variable must be continuous (interval/ratio)\n",
        "\n",
        "•  The observations are independent of one another\n",
        "\n",
        "•  The dependent variable should be approximately normally distributed"
      ],
      "metadata": {
        "id": "1NN3X1ZPllsm"
      }
    },
    {
      "cell_type": "code",
      "source": [
        "test_results_before_diet=np.array([224, 235, 223, 253, 253, 224, 244, 225, 259, 220, 242, 240, 239, 229, 276, 254, 237, 227])\n",
        "test_results_after_diet=np.array([198, 195, 213, 190, 246, 206, 225, 199, 214, 210, 188, 205, 200, 220, 190, 199, 191, 218])"
      ],
      "metadata": {
        "id": "4Q_j3EtnlhCP"
      },
      "execution_count": 27,
      "outputs": []
    },
    {
      "cell_type": "markdown",
      "source": [
        "H0: The data is normally distributed.\n",
        "\n",
        "H1: The data is not normally distributed."
      ],
      "metadata": {
        "id": "0IsK7-F5mDzs"
      }
    },
    {
      "cell_type": "code",
      "source": [
        "check_normality(test_results_before_diet)\n",
        "check_normality(test_results_after_diet)"
      ],
      "metadata": {
        "colab": {
          "base_uri": "https://localhost:8080/"
        },
        "id": "qhVr_cnmmCDS",
        "outputId": "b4012d5b-181b-46fd-f692-adfae9e8f557"
      },
      "execution_count": 28,
      "outputs": [
        {
          "output_type": "stream",
          "name": "stdout",
          "text": [
            "p value:0.1635\n",
            "Fail to reject null hypothesis >> The data is normally distributed\n",
            "p value:0.1003\n",
            "Fail to reject null hypothesis >> The data is normally distributed\n"
          ]
        }
      ]
    },
    {
      "cell_type": "markdown",
      "source": [
        "H0: The true mean difference is equal to or bigger than zero.\n",
        "\n",
        "H1: The true mean difference is smaller than zero."
      ],
      "metadata": {
        "id": "FWi-L47KmL4d"
      }
    },
    {
      "cell_type": "code",
      "source": [
        "test_stat, p_value_paired = stats.ttest_rel(test_results_before_diet,test_results_after_diet)\n",
        "print(\"p value:%.6f\" % p_value_paired , \"one tailed p value:%.6f\" %(p_value_paired/2))\n",
        "if p_value_paired <0.05:\n",
        "    print(\"Reject null hypothesis\")\n",
        "else:\n",
        "    print(\"Fail to reject null hypothesis\")"
      ],
      "metadata": {
        "colab": {
          "base_uri": "https://localhost:8080/"
        },
        "id": "Ttz8gBCBmJtr",
        "outputId": "0cccd4b2-614d-4a47-9c95-62ea89961a6f"
      },
      "execution_count": 29,
      "outputs": [
        {
          "output_type": "stream",
          "name": "stdout",
          "text": [
            "p value:0.000008 one tailed p value:0.000004\n",
            "Reject null hypothesis\n"
          ]
        }
      ]
    },
    {
      "cell_type": "markdown",
      "source": [
        "**At this significance level, there is enough evidence to conclude mean cholesterol level of patients has decreased after the diet.**"
      ],
      "metadata": {
        "id": "_T5EzdjFmWqI"
      }
    },
    {
      "cell_type": "markdown",
      "source": [
        "\n",
        "\n",
        "---\n",
        "\n",
        "A venture capitalist wanted to invest in a startup that provides data compression without any loss in quality, but there are two competitors: PiedPiper and EndFrame. Initially, she believed the performance of the EndFrame could be better but still wanted to test it before the investment. Then, she gave the same files to each company to compress and recorded their performance scores. The data is below.\n",
        "\n",
        "piedpiper=[4.57, 4.55, 5.47, 4.67, 5.41, 5.55, 5.53, 5.63, 3.86, 3.97, 5.44, 3.93, 5.31, 5.17, 4.39, 4.28, 5.25]\n",
        "\n",
        "endframe = [4.27, 3.93, 4.01, 4.07, 3.87, 4. , 4. , 3.72, 4.16, 4.1 , 3.9 , 3.97, 4.08, 3.96, 3.96, 3.77, 4.09]\n",
        "\n",
        "According to this information, conduct the related hypothesis testing by using a 0.05 significance level. Before doing hypothesis testing, check the related assumptions. Comment on the results.\n",
        "\n",
        "Assumptions\n",
        "\n",
        "• The dependent variable must be continuous (interval/ratio)\n",
        "\n",
        "• The observations are independent of one another\n",
        "\n",
        "• The dependent variable should be approximately normally distributed\n",
        "\n",
        "H0: The data is normally distributed.\n",
        "\n",
        "H1: The data is not normally distributed.\n",
        "\n",
        "Assume that alpha=0.05\n",
        "\n",
        "If p-value is >0.05, it can be said that data is normality distributed."
      ],
      "metadata": {
        "id": "W_AvaIUXmaKL"
      }
    },
    {
      "cell_type": "code",
      "source": [
        "piedpiper=np.array([4.57, 4.55, 5.47, 4.67, 5.41, 5.55, 5.53, 5.63, 3.86, 3.97, 5.44, 3.93, 5.31, 5.17, 4.39, 4.28, 5.25])\n",
        "endframe = np.array([4.27, 3.93, 4.01, 4.07, 3.87, 4.  , 4.  , 3.72, 4.16, 4.1 , 3.9 , 3.97, 4.08, 3.96, 3.96, 3.77, 4.09])\n",
        "check_normality(piedpiper)\n",
        "check_normality(endframe)"
      ],
      "metadata": {
        "colab": {
          "base_uri": "https://localhost:8080/"
        },
        "id": "XL5tPnxtmUb6",
        "outputId": "e02500e9-52cd-473b-a1ab-c60ccbae4f33"
      },
      "execution_count": 30,
      "outputs": [
        {
          "output_type": "stream",
          "name": "stdout",
          "text": [
            "p value:0.0304\n",
            "Reject null hypothesis >> The data is not normally distributed\n",
            "p value:0.9587\n",
            "Fail to reject null hypothesis >> The data is normally distributed\n"
          ]
        }
      ]
    },
    {
      "cell_type": "markdown",
      "source": [
        "H0: The true mean difference is equal to or bigger than zero.\n",
        "\n",
        "H1: The true mean difference is smaller than zero."
      ],
      "metadata": {
        "id": "nhw_GDM6mwEh"
      }
    },
    {
      "cell_type": "code",
      "source": [
        "test,pvalue = stats.wilcoxon(endframe,piedpiper) ##alternative default two sided\n",
        "print(\"p-value:%.6f\" %pvalue, \">> one_tailed_pval:%.6f\" %(pvalue/2))\n",
        "\n",
        "test,one_sided_pvalue = stats.wilcoxon(endframe,piedpiper, alternative=\"less\")\n",
        "print(\"one sided pvalue:%.6f\" %(one_sided_pvalue))\n",
        "if pvalue <0.05:\n",
        "    print(\"Reject null hypothesis\")\n",
        "else:\n",
        "    print(\"Fail to recejt null hypothesis\")"
      ],
      "metadata": {
        "colab": {
          "base_uri": "https://localhost:8080/"
        },
        "id": "tMi4ax_fmtI9",
        "outputId": "c30bc8c7-90b8-4f4c-9adf-2c7e914af390"
      },
      "execution_count": 31,
      "outputs": [
        {
          "output_type": "stream",
          "name": "stdout",
          "text": [
            "p-value:0.000214 >> one_tailed_pval:0.000107\n",
            "one sided pvalue:0.000107\n",
            "Reject null hypothesis\n"
          ]
        }
      ]
    },
    {
      "cell_type": "markdown",
      "source": [
        "Reject H0\n",
        "\n",
        "**At this significance level, there is enough evidence to conclude that the performance the PiedPaper is better than the EndFrame.**"
      ],
      "metadata": {
        "id": "Kmu079R_m9M9"
      }
    },
    {
      "cell_type": "markdown",
      "source": [
        "\n",
        "\n",
        "---\n",
        "\n",
        "\n",
        "A researcher was curious about whether there is a difference between the methodology she developed, C, and baseline methods A and B in terms of performance. Therefore, she decided to design different experiments and recorded the achieved accuracy by each method. The below table shows the achieved accuracy on test sets by each method. Please note that the same train and test sets were used for each method.\n",
        "   \n",
        "   \n",
        "\n",
        "![Screenshot 2023-11-15 114705.png](data:image/png;base64,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)"
      ],
      "metadata": {
        "id": "cKFhGnU8nJJk"
      }
    },
    {
      "cell_type": "markdown",
      "source": [
        "According to this information, conduct the hypothesis testing to check whether there is a difference between the performance of the methods by using a 0.05 significance level. If there is a significant difference, perform further analysis to find which one caused the difference. Before doing hypothesis testing, check the related assumptions. Comment on the results.\n",
        "\n",
        "Assumptions\n",
        "\n",
        "\n",
        "*   Observations in each sample are independent and identically distributed (iid).\n",
        "*   Observations in each sample are normally distributed.\n",
        "*   Observations in each sample have the same variance.\n",
        "\n",
        "H0: The data is normally distributed.\n",
        "\n",
        "H1: The data is not normally distributed"
      ],
      "metadata": {
        "id": "Pd2NyHMyn7dz"
      }
    },
    {
      "cell_type": "code",
      "source": [
        "method_A = np.array([89.8, 89.9, 88.6, 88.7, 89.6, 89.7, 89.2, 89.3])\n",
        "method_B =   np.array([90.0, 90.1, 88.8, 88.9, 89.9, 90.0, 89.0, 89.2])\n",
        "method_C = np.array([91.5, 90.7, 90.3, 90.4, 90.2, 90.3, 90.2, 90.3])\n",
        "\n",
        "check_normality(method_A)\n",
        "check_normality(method_B)\n",
        "check_normality(method_C)"
      ],
      "metadata": {
        "colab": {
          "base_uri": "https://localhost:8080/"
        },
        "id": "6oqaTiGwnIpr",
        "outputId": "708f0f8c-0128-4d94-e4f0-467d1eeab785"
      },
      "execution_count": 32,
      "outputs": [
        {
          "output_type": "stream",
          "name": "stdout",
          "text": [
            "p value:0.3076\n",
            "Fail to reject null hypothesis >> The data is normally distributed\n",
            "p value:0.0515\n",
            "Fail to reject null hypothesis >> The data is normally distributed\n",
            "p value:0.0016\n",
            "Reject null hypothesis >> The data is not normally distributed\n"
          ]
        }
      ]
    },
    {
      "cell_type": "markdown",
      "source": [
        "H0: The variances of the samples are the same.\n",
        "\n",
        "H1: The variances of the samples are different."
      ],
      "metadata": {
        "id": "6vPB5mB5p1HS"
      }
    },
    {
      "cell_type": "code",
      "source": [
        "stat, pvalue_levene= stats.levene(method_A, method_B, method_C)\n",
        "\n",
        "print(\"p value:%.4f\" % pvalue_levene)\n",
        "if pvalue_levene <0.05:\n",
        "    print(\"Reject null hypothesis >> The variances of the samples are different.\")\n",
        "else:\n",
        "    print(\"Fail to reject null hypothesis >> The variances of the samples are same.\")"
      ],
      "metadata": {
        "colab": {
          "base_uri": "https://localhost:8080/"
        },
        "id": "UUrpBjkLm5Jp",
        "outputId": "2226ee54-e747-4e46-f404-fc5a7456f51d"
      },
      "execution_count": 33,
      "outputs": [
        {
          "output_type": "stream",
          "name": "stdout",
          "text": [
            "p value:0.1953\n",
            "Fail to reject null hypothesis >> The variances of the samples are same.\n"
          ]
        }
      ]
    },
    {
      "cell_type": "code",
      "source": [
        "test_stat,p_value = stats.friedmanchisquare(method_A,method_B, method_C)\n",
        "print(\"p value:%.4f\" % p_value)\n",
        "if p_value <0.05:\n",
        "    print(\"Reject null hypothesis\")\n",
        "else:\n",
        "    print(\"Fail to reject null hypothesis\")\n",
        "\n",
        "print(np.round(np.mean(method_A),2),' ', np.round(np.mean(method_B),2),' ', np.round(np.mean(method_C),2))"
      ],
      "metadata": {
        "colab": {
          "base_uri": "https://localhost:8080/"
        },
        "id": "fre8JpUGp674",
        "outputId": "0a14dd2f-b443-4508-eca8-dd1c23eaca5c"
      },
      "execution_count": 36,
      "outputs": [
        {
          "output_type": "stream",
          "name": "stdout",
          "text": [
            "p value:0.0015\n",
            "Reject null hypothesis\n",
            "89.35   89.49   90.49\n"
          ]
        }
      ]
    },
    {
      "cell_type": "code",
      "source": [
        "data = np.array([method_A, method_B, method_C])\n",
        "posthoc_df=sp.posthoc_wilcoxon(data, p_adjust=\"holm\")\n",
        "\n",
        "\n",
        "group_names= [\"Method A\", \"Method B\",\"Method C\"]\n",
        "posthoc_df.columns= group_names\n",
        "posthoc_df.index= group_names\n",
        "posthoc_df.style.applymap(lambda x: \"background-color:violet\" if x<0.05 else \"background-color: white\")"
      ],
      "metadata": {
        "colab": {
          "base_uri": "https://localhost:8080/",
          "height": 143
        },
        "id": "9pheYpgep9ZB",
        "outputId": "964e8aee-d6f8-4459-caed-acfe918f7b1b"
      },
      "execution_count": 37,
      "outputs": [
        {
          "output_type": "execute_result",
          "data": {
            "text/plain": [
              "<pandas.io.formats.style.Styler at 0x7b4afc0f3940>"
            ],
            "text/html": [
              "<style type=\"text/css\">\n",
              "#T_ab6bf_row0_col0, #T_ab6bf_row0_col1, #T_ab6bf_row1_col0, #T_ab6bf_row1_col1, #T_ab6bf_row2_col2 {\n",
              "  background-color: white;\n",
              "}\n",
              "#T_ab6bf_row0_col2, #T_ab6bf_row1_col2, #T_ab6bf_row2_col0, #T_ab6bf_row2_col1 {\n",
              "  background-color: violet;\n",
              "}\n",
              "</style>\n",
              "<table id=\"T_ab6bf\" class=\"dataframe\">\n",
              "  <thead>\n",
              "    <tr>\n",
              "      <th class=\"blank level0\" >&nbsp;</th>\n",
              "      <th id=\"T_ab6bf_level0_col0\" class=\"col_heading level0 col0\" >Method A</th>\n",
              "      <th id=\"T_ab6bf_level0_col1\" class=\"col_heading level0 col1\" >Method B</th>\n",
              "      <th id=\"T_ab6bf_level0_col2\" class=\"col_heading level0 col2\" >Method C</th>\n",
              "    </tr>\n",
              "  </thead>\n",
              "  <tbody>\n",
              "    <tr>\n",
              "      <th id=\"T_ab6bf_level0_row0\" class=\"row_heading level0 row0\" >Method A</th>\n",
              "      <td id=\"T_ab6bf_row0_col0\" class=\"data row0 col0\" >1.000000</td>\n",
              "      <td id=\"T_ab6bf_row0_col1\" class=\"data row0 col1\" >0.078125</td>\n",
              "      <td id=\"T_ab6bf_row0_col2\" class=\"data row0 col2\" >0.023438</td>\n",
              "    </tr>\n",
              "    <tr>\n",
              "      <th id=\"T_ab6bf_level0_row1\" class=\"row_heading level0 row1\" >Method B</th>\n",
              "      <td id=\"T_ab6bf_row1_col0\" class=\"data row1 col0\" >0.078125</td>\n",
              "      <td id=\"T_ab6bf_row1_col1\" class=\"data row1 col1\" >1.000000</td>\n",
              "      <td id=\"T_ab6bf_row1_col2\" class=\"data row1 col2\" >0.023438</td>\n",
              "    </tr>\n",
              "    <tr>\n",
              "      <th id=\"T_ab6bf_level0_row2\" class=\"row_heading level0 row2\" >Method C</th>\n",
              "      <td id=\"T_ab6bf_row2_col0\" class=\"data row2 col0\" >0.023438</td>\n",
              "      <td id=\"T_ab6bf_row2_col1\" class=\"data row2 col1\" >0.023438</td>\n",
              "      <td id=\"T_ab6bf_row2_col2\" class=\"data row2 col2\" >1.000000</td>\n",
              "    </tr>\n",
              "  </tbody>\n",
              "</table>\n"
            ]
          },
          "metadata": {},
          "execution_count": 37
        }
      ]
    },
    {
      "cell_type": "markdown",
      "source": [
        "\n",
        "**Method C outperformed others and achieved better accuracy scores than the others.**"
      ],
      "metadata": {
        "id": "YPTmB-1YqabP"
      }
    },
    {
      "cell_type": "markdown",
      "source": [
        "\n",
        "\n",
        "---\n",
        "\n",
        "An analyst of a financial investment company is curious about the relationship between gender and risk appetite. A random sample was taken of 660 customers from the database. The customers in the sample were classified according to their gender and their risk appetite. The result is given in the following table.\n",
        "\n"
      ],
      "metadata": {
        "id": "lrKrepR9qkKH"
      }
    },
    {
      "cell_type": "markdown",
      "source": [
        "![Screenshot 2023-11-15 115824.png](data:image/png;base64,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)"
      ],
      "metadata": {
        "id": "tC2sTUrtqnV2"
      }
    },
    {
      "cell_type": "markdown",
      "source": [
        "Test the hypothesis that the risk appetite of the customers in this company is independent of their gender. Use α = 0.01.\n",
        "\n",
        "H0: Gender and risk appetite are independent.\n",
        "\n",
        "H1: Gender and risk appetite are dependent.\n",
        "\n",
        "chi2 test should be used for this question. This test is known as the goodness-of-fit test. It implies that if the observed data are very close to the expected data. The assumption of this test every Ei ≥ 5 (in at least 80% of the cells) which is satisfied."
      ],
      "metadata": {
        "id": "mHfcU2b_qxba"
      }
    },
    {
      "cell_type": "code",
      "source": [
        "from scipy.stats import chi2_contingency\n",
        "\n",
        "obs =np.array([[53, 23, 30, 36, 88],[71, 48, 51, 57, 203]])\n",
        "chi2, p, dof, ex = chi2_contingency(obs, correction=False)\n",
        "\n",
        "print(\"expected frequencies:\\n \", np.round(ex,2))\n",
        "print(\"degrees of freedom:\", dof)\n",
        "print(\"test stat :%.4f\" % chi2)\n",
        "print(\"p value:%.4f\" % p)"
      ],
      "metadata": {
        "colab": {
          "base_uri": "https://localhost:8080/"
        },
        "id": "ljXXgwA3qScZ",
        "outputId": "79d82754-6c48-4f45-acbc-3e5ecb682b2e"
      },
      "execution_count": 38,
      "outputs": [
        {
          "output_type": "stream",
          "name": "stdout",
          "text": [
            "expected frequencies:\n",
            "  [[ 43.21  24.74  28.23  32.41 101.41]\n",
            " [ 80.79  46.26  52.77  60.59 189.59]]\n",
            "degrees of freedom: 4\n",
            "test stat :7.0942\n",
            "p value:0.1310\n"
          ]
        }
      ]
    },
    {
      "cell_type": "code",
      "source": [
        "from scipy.stats import chi2\n",
        "\n",
        "alpha = 0.01\n",
        "df = (5-1)*(2-1)\n",
        "critical_stat = chi2.ppf((1-alpha), df)\n",
        "print(\"critical stat:%.4f\" % critical_stat)"
      ],
      "metadata": {
        "colab": {
          "base_uri": "https://localhost:8080/"
        },
        "id": "n9hE5Dz-q5cY",
        "outputId": "c7bde9d6-5c3f-412a-9253-ac549ee68308"
      },
      "execution_count": 39,
      "outputs": [
        {
          "output_type": "stream",
          "name": "stdout",
          "text": [
            "critical stat:13.2767\n"
          ]
        }
      ]
    },
    {
      "cell_type": "markdown",
      "source": [
        "Since p value is larger than α=0.01 (or calculated statistic = 7.14 is smaller than the critical statistic = 13.28)\n",
        "\n",
        "Fail to Reject H0. At this significance level, it can be concluded that gender and risk appetite are independent."
      ],
      "metadata": {
        "id": "6xq2c-hiq_h1"
      }
    },
    {
      "cell_type": "code",
      "source": [],
      "metadata": {
        "id": "16HK-SWrq7fu"
      },
      "execution_count": null,
      "outputs": []
    }
  ]
}