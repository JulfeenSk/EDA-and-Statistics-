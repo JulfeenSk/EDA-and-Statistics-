{
  "nbformat": 4,
  "nbformat_minor": 0,
  "metadata": {
    "colab": {
      "provenance": []
    },
    "kernelspec": {
      "name": "python3",
      "display_name": "Python 3"
    },
    "language_info": {
      "name": "python"
    }
  },
  "cells": [
    {
      "cell_type": "code",
      "execution_count": null,
      "metadata": {
        "colab": {
          "base_uri": "https://localhost:8080/"
        },
        "id": "ESSfLMkNNZde",
        "outputId": "95a4cc4c-1357-4da7-b5de-d61f6e5e8776"
      },
      "outputs": [
        {
          "output_type": "stream",
          "name": "stdout",
          "text": [
            "F Statistic 28.396313364055274\n",
            "P Value 2.8173196279768805e-05\n",
            "Alpha 0.05\n",
            "\n",
            "\n",
            "Reject the null hypothesis. There is a significant difference between the groups.\n"
          ]
        }
      ],
      "source": [
        "import pandas as pd\n",
        "import scipy.stats as stats\n",
        "\n",
        "data = {\n",
        "    'Group1': [27, 31, 35, 28, 29],\n",
        "    'Group2': [21, 24, 25, 22, 23],\n",
        "    'Group3': [32, 36, 40, 34, 37]\n",
        "}\n",
        "\n",
        "df = pd.DataFrame(data)\n",
        "\n",
        "f_statistic, p_value = stats.f_oneway(df['Group1'], df['Group2'], df['Group3'])\n",
        "\n",
        "alpha = 0.05\n",
        "\n",
        "print('F Statistic',f_statistic)\n",
        "print('P Value', p_value)\n",
        "print('Alpha', alpha)\n",
        "\n",
        "print('\\n')\n",
        "\n",
        "if p_value < alpha:\n",
        "    print(\"Reject the null hypothesis. There is a significant difference between the groups.\")\n",
        "else:\n",
        "    print(\"Fail to reject the null hypothesis. There is no significant difference between the groups.\")\n"
      ]
    },
    {
      "cell_type": "code",
      "source": [],
      "metadata": {
        "id": "RV_BSPjFOnWV"
      },
      "execution_count": null,
      "outputs": []
    }
  ]
}