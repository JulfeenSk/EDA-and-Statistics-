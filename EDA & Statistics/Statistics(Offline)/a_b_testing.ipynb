{
  "nbformat": 4,
  "nbformat_minor": 0,
  "metadata": {
    "colab": {
      "provenance": []
    },
    "kernelspec": {
      "name": "python3",
      "display_name": "Python 3"
    },
    "language_info": {
      "name": "python"
    }
  },
  "cells": [
    {
      "cell_type": "code",
      "execution_count": 1,
      "metadata": {
        "colab": {
          "base_uri": "https://localhost:8080/"
        },
        "id": "ygGJmXeD7xVX",
        "outputId": "371c9c99-e9f5-4e51-8397-9234a52a3524"
      },
      "outputs": [
        {
          "output_type": "stream",
          "name": "stdout",
          "text": [
            "A/B test is statistically significant\n",
            "Group B is statistically better than Group A\n",
            "t-statistic: -7.385489458759963\n",
            "p-value: 7.503138172108932e-07\n"
          ]
        }
      ],
      "source": [
        "import numpy as np\n",
        "from scipy import stats\n",
        "\n",
        "# control group\n",
        "group_a = [30, 31, 32, 33, 34, 35, 36, 37, 38, 39]\n",
        "\n",
        "# experimental group\n",
        "group_b = [40, 41, 42, 43, 44, 45, 46, 47, 48, 49]\n",
        "\n",
        "mean_a = np.mean(group_a)\n",
        "mean_b = np.mean(group_b)\n",
        "\n",
        "std_dev_a = np.std(group_a, ddof=1)  # ddof=1 for unbiased estimator\n",
        "std_dev_b = np.std(group_b, ddof=1)\n",
        "\n",
        "n_a = len(group_a)\n",
        "n_b = len(group_b)\n",
        "\n",
        "t_stat, p_value = stats.ttest_ind(group_a, group_b)\n",
        "\n",
        "alpha = 0.05\n",
        "\n",
        "if p_value < alpha:\n",
        "    print(\"A/B test is statistically significant\")\n",
        "    if mean_a < mean_b:\n",
        "        print(\"Group B is statistically better than Group A\")\n",
        "    else:\n",
        "        print(\"Group A is statistically better than Group B\")\n",
        "else:\n",
        "    print(\"A/B test is not statistically significant\")\n",
        "\n",
        "# Output the t-statistic and p-value\n",
        "print(\"t-statistic:\", t_stat)\n",
        "print(\"p-value:\", p_value)\n"
      ]
    }
  ]
}