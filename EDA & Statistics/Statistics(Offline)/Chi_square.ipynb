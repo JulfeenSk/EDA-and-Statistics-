{
 "cells": [
  {
   "cell_type": "code",
   "execution_count": 5,
   "metadata": {
    "colab": {
     "base_uri": "https://localhost:8080/"
    },
    "id": "DAf--3f27vlh",
    "outputId": "7f7d1536-d8c5-4659-9d06-268925109a07"
   },
   "outputs": [
    {
     "name": "stdout",
     "output_type": "stream",
     "text": [
      "Chi-square value: 21.35873015873016\n",
      "P-value: 3.808823627483948e-06\n",
      "Degrees of freedom: 1\n",
      "Expected frequencies:\n",
      "[[35. 45.]\n",
      " [35. 45.]]\n",
      "Reject the null hypothesis. There is a significant association between variables.\n"
     ]
    }
   ],
   "source": [
    "import scipy.stats as stats\n",
    "import numpy as np\n",
    "\n",
    "# Create a contingency table (a 2D array) with your data\n",
    "observed_data = np.array([[50, 30], [20, 60]])\n",
    "\n",
    "# Perform the chi-square test\n",
    "chi2, p, dof, expected = stats.chi2_contingency(observed_data)\n",
    "\n",
    "# Define your significance level (alpha)\n",
    "alpha = 0.05\n",
    "\n",
    "# Print the results\n",
    "print(f\"Chi-square value: {chi2}\")\n",
    "print(f\"P-value: {p}\")\n",
    "print(f\"Degrees of freedom: {dof}\")\n",
    "print(\"Expected frequencies:\")\n",
    "print(expected)\n",
    "\n",
    "if p <= alpha:\n",
    "    print(\"Reject the null hypothesis. There is a significant association between variables.\")\n",
    "else:\n",
    "    print(\"Fail to reject the null hypothesis. There is no significant association between variables.\")\n",
    "\n"
   ]
  },
  {
   "cell_type": "code",
   "execution_count": 8,
   "metadata": {
    "colab": {
     "base_uri": "https://localhost:8080/"
    },
    "id": "E5BYf5pQ84FI",
    "outputId": "e8e2868a-7798-4d3d-d2c3-b34efc2e8771"
   },
   "outputs": [
    {
     "name": "stdout",
     "output_type": "stream",
     "text": [
      "Chi-square value: 5.3\n",
      "P-value: 0.2578769276705679\n",
      "Fail to reject the null hypothesis. \n"
     ]
    }
   ],
   "source": [
    "import scipy.stats as stats\n",
    "import numpy as np\n",
    "\n",
    "# Observed data\n",
    "observed_data = np.array([18, 22, 12, 25, 23])\n",
    "\n",
    "# Expected frequencies for a specific distribution\n",
    "expected_data = np.array([20, 20, 20, 20, 20])\n",
    "\n",
    "# Perform the chi-square goodness-of-fit test\n",
    "chi2, p = stats.chisquare(f_obs=observed_data, f_exp=expected_data)\n",
    "\n",
    "# Print the results\n",
    "print(f\"Chi-square value: {chi2}\")\n",
    "print(f\"P-value: {p}\")\n",
    "\n",
    "alpha = 0.05\n",
    "\n",
    "if p <= alpha:\n",
    "    print(\"Reject the null hypothesis. \")\n",
    "else:\n",
    "    print(\"Fail to reject the null hypothesis. \")"
   ]
  }
 ],
 "metadata": {
  "colab": {
   "provenance": []
  },
  "kernelspec": {
   "display_name": "Python 3 (ipykernel)",
   "language": "python",
   "name": "python3"
  },
  "language_info": {
   "codemirror_mode": {
    "name": "ipython",
    "version": 3
   },
   "file_extension": ".py",
   "mimetype": "text/x-python",
   "name": "python",
   "nbconvert_exporter": "python",
   "pygments_lexer": "ipython3",
   "version": "3.9.13"
  }
 },
 "nbformat": 4,
 "nbformat_minor": 1
}
