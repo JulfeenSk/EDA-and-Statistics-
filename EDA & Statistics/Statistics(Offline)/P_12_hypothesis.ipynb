{
 "cells": [
  {
   "cell_type": "code",
   "execution_count": null,
   "id": "19fba337-77a0-4d38-99a9-ff26f05e37a2",
   "metadata": {},
   "outputs": [],
   "source": [
    "# Practical 12\n",
    "\n",
    "'''The number of chairs sold by a furntiure shop in each week for the past 14 weeks is given below:\n",
    "183, 152, 178, 157, 194, 163, 144, 114, 178, 152, 118, 158, 172, 138\n",
    "\n",
    "Is there sufficient statistical evidence to suggest that the average number of chairs\n",
    "sold by a furniture shop is less than 165?'''"
   ]
  },
  {
   "cell_type": "code",
   "execution_count": 4,
   "id": "f17674de-bc62-4d2b-9540-c7556d6513a1",
   "metadata": {},
   "outputs": [
    {
     "name": "stdout",
     "output_type": "stream",
     "text": [
      "Total sales in each week is given below:\n",
      "[183, 152, 178, 157, 194, 163, 144, 114, 178, 152, 118, 158, 172, 138]\n",
      "\n",
      "\n",
      "Mu value:  165\n"
     ]
    }
   ],
   "source": [
    "total_sales = [183, 152, 178, 157, 194, 163, 144, 114, 178, 152, 118, 158, 172, 138]\n",
    "mu = 165\n",
    "\n",
    "print(\"Total sales in each week is given below:\")\n",
    "print(total_sales)\n",
    "print(\"\\n\")\n",
    "print(\"Mu value: \", mu)"
   ]
  },
  {
   "cell_type": "code",
   "execution_count": 7,
   "id": "268085cd-7c75-4820-9c4c-e4cf3bea4b06",
   "metadata": {},
   "outputs": [
    {
     "name": "stdout",
     "output_type": "stream",
     "text": [
      "Test statistic is -1.243183\n",
      "p-value for one tailed test is 0.117877\n",
      "Conclusion: \n",
      " Since p-value (= 0.117877) > alpha(= 0.05) We do not reject the null hypothesis H0.\n"
     ]
    }
   ],
   "source": [
    "from scipy import stats\n",
    "\n",
    "t_value, p_value = stats.ttest_1samp(total_sales,mu)\n",
    "# tc and table      values are given from the above line\n",
    "\n",
    "one_tailed_p_value = float(\"{:.6f}\".format(p_value/2)) \n",
    "\n",
    "# Since alternative hypothesis is one tailed, We need to divide the p value by 2.\n",
    "\n",
    "print('Test statistic is %f' %float(\"{:.6f}\".format(t_value)))\n",
    "\n",
    "print('p-value for one tailed test is %f' %one_tailed_p_value)\n",
    "\n",
    "alpha = 0.05\n",
    "\n",
    "if one_tailed_p_value <= alpha:\n",
    "  print('Conclusion:','\\n','Since p value (= %f)'%p_value,'<','alpha(= %.2f)'%alpha,\n",
    "        '''We reject the null hypothesis H0. So we conclude that there is no significant \n",
    "        mean difference in total sales. i.e., μ = 165 at %.2f level of significance''' %alpha)\n",
    "\n",
    "else:\n",
    "  print('Conclusion:','\\n','Since p-value (= %f)'%one_tailed_p_value, '>', \n",
    "        'alpha(= %.2f)' %alpha, 'We do not reject the null hypothesis H0.')"
   ]
  },
  {
   "cell_type": "code",
   "execution_count": null,
   "id": "61788850-94f5-4f1e-88dd-10f501fa07bb",
   "metadata": {},
   "outputs": [],
   "source": []
  },
  {
   "cell_type": "code",
   "execution_count": null,
   "id": "ad2d19c7-4329-467b-9c5a-fdbe67e9eb28",
   "metadata": {},
   "outputs": [],
   "source": []
  }
 ],
 "metadata": {
  "kernelspec": {
   "display_name": "Python 3 (ipykernel)",
   "language": "python",
   "name": "python3"
  },
  "language_info": {
   "codemirror_mode": {
    "name": "ipython",
    "version": 3
   },
   "file_extension": ".py",
   "mimetype": "text/x-python",
   "name": "python",
   "nbconvert_exporter": "python",
   "pygments_lexer": "ipython3",
   "version": "3.9.13"
  }
 },
 "nbformat": 4,
 "nbformat_minor": 5
}
