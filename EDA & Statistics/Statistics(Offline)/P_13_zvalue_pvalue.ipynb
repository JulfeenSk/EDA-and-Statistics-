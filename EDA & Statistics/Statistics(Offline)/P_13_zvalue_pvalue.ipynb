{
 "cells": [
  {
   "cell_type": "code",
   "execution_count": null,
   "id": "2ceb64cb-9c09-48c7-b522-b1cc1872d0ae",
   "metadata": {},
   "outputs": [],
   "source": [
    "# pratical 13\n",
    "\n",
    "'''The marks obtained by 15 students in a class are given below:\n",
    "75, 98, 16, 33, 57, 82, 97, 48, 87, 75, 68, 12, 57, 58, 79.\n",
    "\n",
    "Is there statistical evidence to support the hypothesis that the \n",
    "population mean of marks obtained by the 15 students in the class \n",
    "is equal to 70 at 5% level of significance?'''"
   ]
  },
  {
   "cell_type": "code",
   "execution_count": 7,
   "id": "b6bfc6f1-cbc6-40f8-81aa-5625ea9491a9",
   "metadata": {},
   "outputs": [],
   "source": [
    "import numpy as np\n",
    "from scipy import stats\n",
    "\n",
    "data = np.array([75, 98, 16, 33, 57, 82, 97, 48, 87, 75, 68, 12, 57, 58, 79])\n",
    "\n",
    "# Hypothesis parameters\n",
    "null_hypothesis_mean = 70  # The null hypothesis: population mean is 70\n",
    "alpha = 0.05  # Significance level "
   ]
  },
  {
   "cell_type": "code",
   "execution_count": 10,
   "id": "e643198d-1279-418e-8d71-3ce0e078445e",
   "metadata": {},
   "outputs": [
    {
     "name": "stdout",
     "output_type": "stream",
     "text": [
      "Sample Mean: 62.8\n",
      "Z-score: -1.0476623437510555\n",
      "Critical Value: 1.959963984540054\n",
      "\n",
      "\n",
      "Conclusion: Fail to reject the null hypothesis: There is no evidence to suggest that the population mean is different from 70.\n"
     ]
    }
   ],
   "source": [
    "# Calculate the test statistic (Z-score)\n",
    "sample_mean = np.mean(data)\n",
    "sample_std = np.std(data, ddof=1)  # Use ddof=1 for sample standard deviation\n",
    "sample_size = len(data)\n",
    "z_score = (sample_mean - null_hypothesis_mean) / (sample_std / np.sqrt(sample_size))\n",
    "\n",
    "# Calculate the critical value (for a two-tailed test)\n",
    "critical_value = stats.norm.ppf(1 - alpha / 2)  # Z-distribution\n",
    "\n",
    "# Print the results\n",
    "print(\"Sample Mean:\", sample_mean)\n",
    "print(\"Z-score:\", z_score)\n",
    "print(\"Critical Value:\", critical_value)\n",
    "print(\"\\n\")\n",
    "\n",
    "# Compare the test statistic to the critical value\n",
    "if abs(z_score) > critical_value:\n",
    "    print(\"Conclusion: Reject the null hypothesis: There is evidence that the population mean is not equal to 70.\")\n",
    "else:\n",
    "    print(\"Conclusion: Fail to reject the null hypothesis: There is no evidence to suggest that the population mean is different from 70.\")\n"
   ]
  },
  {
   "cell_type": "code",
   "execution_count": 11,
   "id": "a9edafba-2240-41ba-87e2-2ca65b872780",
   "metadata": {},
   "outputs": [
    {
     "name": "stdout",
     "output_type": "stream",
     "text": [
      "T-statistic: -1.0476623437510553\n",
      "P-value: 0.31254523137009865\n",
      "\n",
      "\n",
      "Fail to reject the null hypothesis: There is no evidence to suggest that the population mean is different from 70.\n"
     ]
    }
   ],
   "source": [
    "# Perform one-sample t-test\n",
    "t_statistic, p_value = stats.ttest_1samp(data, null_hypothesis_mean)\n",
    "\n",
    "# Display results\n",
    "print(\"T-statistic:\", t_statistic)\n",
    "print(\"P-value:\", p_value)\n",
    "print(\"\\n\")\n",
    "\n",
    "alpha = 0.05\n",
    "\n",
    "if p_value < alpha:\n",
    "    print(\"Reject the null hypothesis: There is evidence that the population mean is not equal to 70.\")\n",
    "else:\n",
    "    print(\"Fail to reject the null hypothesis: There is no evidence to suggest that the population mean is different from 70.\")\n"
   ]
  },
  {
   "cell_type": "code",
   "execution_count": null,
   "id": "e237dbac-761b-4b3c-af37-165efab3a59c",
   "metadata": {},
   "outputs": [],
   "source": []
  }
 ],
 "metadata": {
  "kernelspec": {
   "display_name": "Python 3 (ipykernel)",
   "language": "python",
   "name": "python3"
  },
  "language_info": {
   "codemirror_mode": {
    "name": "ipython",
    "version": 3
   },
   "file_extension": ".py",
   "mimetype": "text/x-python",
   "name": "python",
   "nbconvert_exporter": "python",
   "pygments_lexer": "ipython3",
   "version": "3.9.13"
  }
 },
 "nbformat": 4,
 "nbformat_minor": 5
}
