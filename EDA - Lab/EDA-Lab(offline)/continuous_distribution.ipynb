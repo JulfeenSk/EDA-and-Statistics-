{
  "nbformat": 4,
  "nbformat_minor": 0,
  "metadata": {
    "colab": {
      "provenance": []
    },
    "kernelspec": {
      "name": "python3",
      "display_name": "Python 3"
    },
    "language_info": {
      "name": "python"
    }
  },
  "cells": [
    {
      "cell_type": "code",
      "execution_count": 1,
      "metadata": {
        "id": "8x5NQNFLMlat"
      },
      "outputs": [],
      "source": []
    },
    {
      "cell_type": "code",
      "source": [
        "%matplotlib inline\n",
        "import matplotlib.pyplot as plt\n",
        "from IPython.display import Math, Latex\n",
        "from IPython.core.display import Image\n",
        "import seaborn as sns"
      ],
      "metadata": {
        "id": "ZrKFcu-GQifv"
      },
      "execution_count": null,
      "outputs": []
    },
    {
      "cell_type": "code",
      "source": [
        "#continuous\n",
        "# Normal Distribution\n",
        "\n",
        "from scipy.stats import norm\n",
        "data_normal = norm.rvs(size=10000,loc=0,scale=1)\n",
        "sns.histplot(data_normal, bins=100, kde=True, color='green', element='step', fill=True)\n",
        "plt.xlabel('Normal Distribution')\n",
        "plt.ylabel('Frequency')\n",
        "plt.show()"
      ],
      "metadata": {
        "id": "VjEYEmNLQnIC"
      },
      "execution_count": null,
      "outputs": []
    },
    {
      "cell_type": "code",
      "source": [
        "#continuous\n",
        "# Gamma Distribution\n",
        "\n",
        "from scipy.stats import gamma\n",
        "data_gamma = gamma.rvs(a=5, size=10000)\n",
        "sns.histplot(data_gamma, bins=100, kde=True, color = 'orange', element='step', fill=True)\n",
        "plt.xlabel('Gamma Distribution')\n",
        "plt.ylabel('Frequency')\n",
        "plt.show()"
      ],
      "metadata": {
        "id": "uqVVQR3JQvNZ"
      },
      "execution_count": null,
      "outputs": []
    },
    {
      "cell_type": "code",
      "source": [
        "#continuous\n",
        "# Exponential Distribution\n",
        "\n",
        "from scipy.stats import expon\n",
        "data_expon = expon.rvs(scale=1,loc=0,size=1000)\n",
        "sns.histplot(data_expon, bins=100, kde=True, color = 'pink', element='step', fill=True)\n",
        "plt.xlabel('Exponential Distribution')\n",
        "plt.ylabel('Frequency')\n",
        "plt.show()"
      ],
      "metadata": {
        "id": "1hN43EbWQ2M4"
      },
      "execution_count": null,
      "outputs": []
    },
    {
      "cell_type": "code",
      "source": [
        "#continuous & disrete\n",
        "# Log Normal Distribution\n",
        "\n",
        "from scipy.stats import lognorm\n",
        "s = 0.954 #shape parameter\n",
        "data_lognormal = lognorm.rvs(s=s, size=10000)\n",
        "sns.histplot(data_lognormal, bins=100, kde=True, color='blue', element='step', fill=True)\n",
        "plt.xlabel('Log-Normal Distribution')\n",
        "plt.ylabel('Frequency')\n",
        "plt.show()"
      ],
      "metadata": {
        "id": "pNo3ee58RQrB"
      },
      "execution_count": null,
      "outputs": []
    },
    {
      "cell_type": "code",
      "source": [
        "#continuous\n",
        "# Weibull distribution\n",
        "\n",
        "from scipy.stats import weibull_min\n",
        "c = 2.0  # shape parameter\n",
        "data_weibull = weibull_min.rvs(c, size=10000)\n",
        "sns.histplot(data_weibull, bins=100, kde=True, color='purple', element='step', fill=True)\n",
        "plt.xlabel('Weibull Distribution')\n",
        "plt.ylabel('Frequency')\n",
        "plt.show()"
      ],
      "metadata": {
        "id": "e9NHurdtRUoh"
      },
      "execution_count": null,
      "outputs": []
    },
    {
      "cell_type": "code",
      "source": [
        "#continuous\n",
        "# Laplace distribution\n",
        "\n",
        "from scipy.stats import laplace\n",
        "data_laplace = laplace.rvs(size=10000, loc=0, scale=1)\n",
        "sns.histplot(data_laplace, bins=100, kde=True, color='red', element='step', fill=True)\n",
        "plt.xlabel('Laplace Distribution')\n",
        "plt.ylabel('Frequency')\n",
        "plt.show()"
      ],
      "metadata": {
        "id": "zI4juU0MRaUZ"
      },
      "execution_count": null,
      "outputs": []
    }
  ]
}