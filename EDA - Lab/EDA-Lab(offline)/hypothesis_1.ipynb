{
 "cells": [
  {
   "cell_type": "code",
   "execution_count": null,
   "id": "bfb52ff8",
   "metadata": {},
   "outputs": [],
   "source": [
    "# hypothesis testing . T test , f test ,z test examples"
   ]
  },
  {
   "cell_type": "code",
   "execution_count": null,
   "id": "1542ee61",
   "metadata": {},
   "outputs": [],
   "source": [
    "import scipy.stats as stats\n",
    "\n",
    "\n",
    "sample1 = [25, 30, 35, 40, 45]\n",
    "sample2 = [20, 28, 32, 38, 42]\n",
    "\n",
    "\n",
    "t_stat, p_value = stats.ttest_ind(sample1, sample2)\n",
    "\n",
    "#t stat value is greater than 1 reject Ho\n",
    "# p value is greater than a accept Ho \n",
    "# p value is less than a accept H1\n",
    "\n",
    "alpha = 0.05 \n",
    "\n",
    "\n",
    "if p_value < alpha:  #p-value is less than alpha -reject Ho\n",
    "    print(\"Reject the null hypothesis . There is significant difference between the two samples\" ) # significant difference between the two samples\n",
    "else:\n",
    "    print(\"Fail to reject the null hypothesis . no significant difference between the two samples\") ## no significant difference between the two samples\n",
    "\n",
    "\n",
    "print(f\"t-statistic: {t_stat}\")\n",
    "print(f\"P-value: {p_value}\")\n",
    "\n"
   ]
  },
  {
   "cell_type": "code",
   "execution_count": null,
   "id": "3811540c",
   "metadata": {},
   "outputs": [],
   "source": [
    "import numpy as np\n",
    "from scipy import stats\n",
    "\n",
    "data1 = np.array([14.2, 15.2, 13.8, 16.1, 14.9])\n",
    "data2 = np.array([17.2, 15.8, 16.5, 18.1, 16.6])\n",
    "\n",
    "\n",
    "\n",
    "#f stat value is greater than 1 reject Ho\n",
    "# p value is greater than a accept Ho \n",
    "\n",
    "f_statistic, p_value = stats.f_oneway(data1, data2)\n",
    "\n",
    "\n",
    "alpha = 0.05\n",
    "\n",
    "\n",
    "if p_value < alpha:\n",
    "    print(\"Reject the null hypothesis. There is significant differnce \") #significant diff\n",
    "else:\n",
    "    print(\"Fail to reject the null hypothesis. There is no significant difference\") # no significant diff\n",
    "\n",
    "\n",
    "print(f\"F-statistic: {f_statistic}\")\n",
    "print(f\"P-value: {p_value}\")\n"
   ]
  },
  {
   "cell_type": "code",
   "execution_count": null,
   "id": "f48d76fa",
   "metadata": {},
   "outputs": [],
   "source": [
    "# if n >30 , you have population mean and pop. sd.\n",
    "import numpy as np\n",
    "from scipy import stats\n",
    "\n",
    "sample_data = np.array([73, 69, 74, 71, 72, 70, 68, 75, 76, 71])\n",
    "\n",
    "population_mean = 70\n",
    "population_stddev = 5\n",
    "\n",
    "alpha = 0.05\n",
    "\n",
    "\n",
    "z_stat, p_value = stats.z_test(sample_data, value=population_mean, std_dev=population_stddev)\n",
    "\n",
    "\n",
    "if p_value < alpha:\n",
    "    print(\"Reject the null hypothesis\")\n",
    "else:\n",
    "    print(\"Fail to reject the null hypothesis\")\n",
    "\n",
    "print(f\"Z-statistic: {z_stat}\")\n",
    "print(f\"P-value: {p_value}\")\n"
   ]
  }
 ],
 "metadata": {
  "kernelspec": {
   "display_name": "Python 3 (ipykernel)",
   "language": "python",
   "name": "python3"
  },
  "language_info": {
   "codemirror_mode": {
    "name": "ipython",
    "version": 3
   },
   "file_extension": ".py",
   "mimetype": "text/x-python",
   "name": "python",
   "nbconvert_exporter": "python",
   "pygments_lexer": "ipython3",
   "version": "3.10.9"
  }
 },
 "nbformat": 4,
 "nbformat_minor": 5
}
