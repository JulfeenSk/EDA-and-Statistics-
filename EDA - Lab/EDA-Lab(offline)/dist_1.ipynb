{
 "cells": [
  {
   "cell_type": "code",
   "execution_count": null,
   "id": "98f21966",
   "metadata": {},
   "outputs": [],
   "source": [
    "%matplotlib inline\n",
    "import matplotlib.pyplot as plt\n",
    "from IPython.display import Math, Latex\n",
    "from IPython.core.display import Image\n",
    "import seaborn as sns"
   ]
  },
  {
   "cell_type": "code",
   "execution_count": null,
   "id": "d44992b8",
   "metadata": {},
   "outputs": [],
   "source": [
    "import pandas as pd\n"
   ]
  },
  {
   "cell_type": "code",
   "execution_count": null,
   "id": "9472c228",
   "metadata": {},
   "outputs": [],
   "source": [
    "df= pd.read_csv(\"Iris.csv\")"
   ]
  },
  {
   "cell_type": "code",
   "execution_count": null,
   "id": "98a25eb3",
   "metadata": {},
   "outputs": [],
   "source": [
    "print(df)"
   ]
  },
  {
   "cell_type": "code",
   "execution_count": null,
   "id": "7da958e3",
   "metadata": {},
   "outputs": [],
   "source": [
    "sns.histplot(df['PetalWidthCm'])"
   ]
  },
  {
   "cell_type": "code",
   "execution_count": null,
   "id": "8a0f6521",
   "metadata": {},
   "outputs": [],
   "source": [
    "import numpy as np\n",
    "from scipy.stats import gamma\n",
    "\n",
    "filtered_data= df[df['PetalWidthCm'] <= 100]  # Replace the condition as needed\n",
    "\n",
    "# Check if the filtered DataFrame is empty\n",
    "if not filtered_data.empty:\n",
    "   \n",
    "    shape = filtered_data['PetalWidthCm'].values[0]\n",
    "    scale = filtered_data['PetalWidthCm'].values[0]\n",
    "    data = np.random.gamma(shape, scale, size=1000) \n",
    "else:\n",
    "    print(\"No data matching the condition in the DataFrame.\")\n",
    "sns.histplot(data,kde= True)\n",
    "    \n"
   ]
  },
  {
   "cell_type": "code",
   "execution_count": null,
   "id": "4335c687",
   "metadata": {},
   "outputs": [],
   "source": [
    "print(filtered_data)\n"
   ]
  },
  {
   "cell_type": "code",
   "execution_count": null,
   "id": "af36286c",
   "metadata": {},
   "outputs": [],
   "source": [
    "import numpy as np\n",
    "from scipy.stats import norm\n",
    "import matplotlib.pyplot as plt\n"
   ]
  },
  {
   "cell_type": "code",
   "execution_count": null,
   "id": "c2f912ce",
   "metadata": {},
   "outputs": [],
   "source": [
    "petal_width_data = df['PetalWidthCm']\n",
    "mu, std = norm.fit(petal_width_data)\n",
    "x = np.linspace(petal_width_data.min(), petal_width_data.max(), 100)\n",
    "pdf = norm.pdf(x, mu, std)\n",
    "plt.hist(petal_width_data, bins=20, density=True, alpha=0.6, color='b', label=\"Petal Width Data\") \n",
    "plt.plot(x, pdf, 'r-', lw=2, label=\"Fitted Normal Distribution\")\n",
    "plt.xlabel(\"Petal Width (cm)\")\n",
    "plt.ylabel(\"Probability Density\")\n",
    "plt.legend()\n",
    "plt.show()\n"
   ]
  }
 ],
 "metadata": {
  "kernelspec": {
   "display_name": "Python 3 (ipykernel)",
   "language": "python",
   "name": "python3"
  },
  "language_info": {
   "codemirror_mode": {
    "name": "ipython",
    "version": 3
   },
   "file_extension": ".py",
   "mimetype": "text/x-python",
   "name": "python",
   "nbconvert_exporter": "python",
   "pygments_lexer": "ipython3",
   "version": "3.10.9"
  }
 },
 "nbformat": 4,
 "nbformat_minor": 5
}
